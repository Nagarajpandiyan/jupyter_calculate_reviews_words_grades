{
  "nbformat": 4,
  "nbformat_minor": 0,
  "metadata": {
    "colab": {
      "name": "jupyter_calculate-reviews-words-grades.ipynb",
      "provenance": []
    },
    "language_info": {
      "codemirror_mode": {
        "name": "ipython",
        "version": 3
      },
      "file_extension": ".py",
      "mimetype": "text/x-python",
      "name": "python",
      "nbconvert_exporter": "python",
      "pygments_lexer": "ipython3",
      "version": "3.6.4"
    },
    "kernelspec": {
      "display_name": "Python 3",
      "language": "python",
      "name": "python3"
    }
  },
  "cells": [
    {
      "cell_type": "code",
      "metadata": {
        "id": "jeBIuPmt3mVB",
        "colab_type": "code",
        "colab": {}
      },
      "source": [
        "from pymongo import MongoClient\n",
        "import pandas as pd\n",
        "import numpy as np\n",
        "from nltk.tokenize.regexp import WhitespaceTokenizer\n",
        "from datetime import datetime as dt\n",
        "import matplotlib.pyplot as plt\n",
        "from sklearn.feature_extraction.text import TfidfVectorizer, CountVectorizer\n",
        "from time import time\n",
        "from sklearn.decomposition import NMF, LatentDirichletAllocation"
      ],
      "execution_count": 0,
      "outputs": []
    },
    {
      "cell_type": "code",
      "metadata": {
        "id": "gnzF_1pc3mVP",
        "colab_type": "code",
        "colab": {}
      },
      "source": [
        "top5CollsTrip = [\"barcelona\", \"dublin\", \"amsterdam\", \"athens\", \"berlin\"]\n",
        "top5CollsTrip = [i+\"Tripadvisor\" for i in top5CollsTrip]\n",
        "top5CollsBooking = [\"edinburgh\", \"dublin\", \"manchester\", \"barcelona\", \"berlin\"]\n",
        "top5CollsBooking = [i+\"Booking\" for i in top5CollsBooking]"
      ],
      "execution_count": 0,
      "outputs": []
    },
    {
      "cell_type": "code",
      "metadata": {
        "id": "9NwyofES3mVX",
        "colab_type": "code",
        "colab": {}
      },
      "source": [
        "# connect to the db\n",
        "client = MongoClient()\n",
        "db = client.sentimentAnalysis"
      ],
      "execution_count": 0,
      "outputs": []
    },
    {
      "cell_type": "code",
      "metadata": {
        "id": "Zxy827it3mVe",
        "colab_type": "code",
        "colab": {}
      },
      "source": [
        "def getCollection(collName = \"\"):\n",
        "    '''\n",
        "    return pandas dataframe.\n",
        "    '''\n",
        "    cursor = db[collName].find({})\n",
        "    df = pd.DataFrame(list(cursor))\n",
        "    return df"
      ],
      "execution_count": 0,
      "outputs": []
    },
    {
      "cell_type": "code",
      "metadata": {
        "id": "g2nXhN1B3mVl",
        "colab_type": "code",
        "colab": {}
      },
      "source": [
        "# BarcelonaTripDF = getCollection(top5CollsTrip[0])"
      ],
      "execution_count": 0,
      "outputs": []
    },
    {
      "cell_type": "code",
      "metadata": {
        "id": "Ga5La38f3mVq",
        "colab_type": "code",
        "colab": {}
      },
      "source": [
        "def convertDate(stringDate):\n",
        "    '''\n",
        "    convert string date format into python comparable striptime format\n",
        "    '''\n",
        "    return dt.strptime(stringDate, \"%B %d, %Y\")\n",
        "\n",
        "def calculateStatistics(collDF):\n",
        "    '''\n",
        "    input parameter is dataframe of one specific collection\n",
        "    return includes three different variables\n",
        "    '''\n",
        "    # calculate the number of words in each reviews data and then add it as a new column\n",
        "    reviewsLen = list()\n",
        "    bagWords = list()\n",
        "    def calculateWordCount(review = \"\"):\n",
        "        tokens = WhitespaceTokenizer().tokenize(review)\n",
        "        reviewLen = len(tokens)\n",
        "        reviewsLen.append(reviewLen)\n",
        "        bagWords.append(tokens)\n",
        "\n",
        "    for i in collDF[\"review\"]:\n",
        "#         print(i)\n",
        "        calculateWordCount(i)\n",
        "    collDF[\"wordCount\"] = pd.Series(reviewsLen, index=collDF.index)\n",
        "    collDF = collDF.astype(dtype={\"hotelStars\": float}, copy=False)\n",
        "    \n",
        "        # group Barcelona collection review data by hotel, and then get basic statistics for each hotel.\n",
        "    hotelsStatList = list()\n",
        "    for hotelurl, group in collDF.groupby(\"hotelName\"):\n",
        "    #     print(hotelurl)\n",
        "        reviewNum = len(group)\n",
        "        reviewsDateList = group[\"date\"].apply(convertDate)\n",
        "        earliestDate = min(reviewsDateList)\n",
        "        latestDate = max(reviewsDateList)\n",
        "        hotelsStat = [hotelurl, reviewNum, earliestDate, latestDate]\n",
        "        hotelsStatList.append(hotelsStat)\n",
        "    hotelsStatDF = pd.DataFrame(hotelsStatList, columns=[\"hotelName\", \"reviewCount\", \"earliestDate\", \"latestDate\"])\n",
        "    \n",
        "#     this variable returns hotels in that cities statistics\n",
        "    hotelsStatDF = hotelsStatDF.sort_values(by=\"reviewCount\", ascending=False)\n",
        "    \n",
        "    return hotelsStatDF, collDF, bagWords"
      ],
      "execution_count": 0,
      "outputs": []
    },
    {
      "cell_type": "code",
      "metadata": {
        "id": "OuNHVfND3mVw",
        "colab_type": "code",
        "colab": {}
      },
      "source": [
        "def drawBoxplot(reviewsDF):\n",
        "    flt1 = plt.figure()\n",
        "    ax1 = flt1.add_subplot(111)\n",
        "    ax1.set_ylabel(\"hotels category stars\")\n",
        "    ax1.set_title(\"Barcelona Tripadvisor.com\")\n",
        "    ax1.boxplot(BarcelonaTripDF[\"hotelStars\"])\n",
        "    flt1.show()\n",
        "    plt.show()\n",
        "    \n",
        "    flt2 = plt.figure()\n",
        "    ax2 = flt2.add_subplot(111)\n",
        "    ax2.set_ylabel(\"review grades\")\n",
        "    ax2.set_title(\"Barcelona Tripadvisor.com\")\n",
        "    ax2.boxplot(BarcelonaTripDF[\"score\"])\n",
        "    flt2.show()\n",
        "    plt.show()\n",
        "    \n",
        "    flt3 = plt.figure()\n",
        "    ax3 = flt3.add_subplot(111)\n",
        "    ax3.set_ylabel(\"review word count\")\n",
        "    ax3.set_title(\"Barcelona Tripadvisor.com\")\n",
        "    ax3.boxplot(BarcelonaTripDF[\"wordCount\"])\n",
        "    flt3.show()\n",
        "    plt.show()"
      ],
      "execution_count": 0,
      "outputs": []
    },
    {
      "cell_type": "code",
      "metadata": {
        "id": "Pgs-j0-n3mV1",
        "colab_type": "code",
        "colab": {}
      },
      "source": [
        "# hotelsStatDF, collDF, bagWords = calculateStatistics(BarcelonaTripDF)"
      ],
      "execution_count": 0,
      "outputs": []
    },
    {
      "cell_type": "code",
      "metadata": {
        "id": "4wWZSTa13mV8",
        "colab_type": "code",
        "colab": {}
      },
      "source": [
        "# scoresPercentile = collDF[\"score\"].value_counts(normalize=True) * 100"
      ],
      "execution_count": 0,
      "outputs": []
    },
    {
      "cell_type": "code",
      "metadata": {
        "id": "cx6Kca4m3mWB",
        "colab_type": "code",
        "colab": {}
      },
      "source": [
        "# DublinTripDF = getCollection(top5CollsTrip[1])\n",
        "# AmsterdamTripDF = getCollection(top5CollsTrip[2])\n",
        "# AthensTripDF = getCollection(top5CollsTrip[3])\n",
        "# BerlinTripDF = getCollection(top5CollsTrip[4])"
      ],
      "execution_count": 0,
      "outputs": []
    },
    {
      "cell_type": "code",
      "metadata": {
        "id": "tqhtvnDM3mWK",
        "colab_type": "code",
        "colab": {}
      },
      "source": [
        "scoresPercent = list()\n",
        "allCitiesCollDF = list()\n",
        "allBagWords = list()\n",
        "def calculateEachCity(cityName):\n",
        "    hotelsStatDF, collDF, bagWords = calculateStatistics(getCollection(cityName))\n",
        "    scoresPercentThisCity = collDF[\"score\"].value_counts(normalize=True).values * 100\n",
        "    scoresPercent.append(scoresPercentThisCity)\n",
        "    allCitiesCollDF.append(collDF)\n",
        "    allBagWords.append(bagWords)"
      ],
      "execution_count": 0,
      "outputs": []
    },
    {
      "cell_type": "code",
      "metadata": {
        "id": "G2ZzfBWd3mWP",
        "colab_type": "code",
        "colab": {}
      },
      "source": [
        "for i in top5CollsTrip:\n",
        "    calculateEachCity(i)"
      ],
      "execution_count": 0,
      "outputs": []
    },
    {
      "cell_type": "code",
      "metadata": {
        "id": "6QgGzYky3mWU",
        "colab_type": "code",
        "outputId": "2e9f1c4b-86f6-4b8a-a991-28663d82a66d",
        "colab": {}
      },
      "source": [
        "type(scoresPercent)"
      ],
      "execution_count": 0,
      "outputs": [
        {
          "output_type": "execute_result",
          "data": {
            "text/plain": [
              "list"
            ]
          },
          "metadata": {
            "tags": []
          },
          "execution_count": 13
        }
      ]
    },
    {
      "cell_type": "code",
      "metadata": {
        "id": "DdZXRIcS3mWc",
        "colab_type": "code",
        "outputId": "f7090454-a48c-480e-cd82-21b297209487",
        "colab": {}
      },
      "source": [
        "scoresPercent"
      ],
      "execution_count": 0,
      "outputs": [
        {
          "output_type": "execute_result",
          "data": {
            "text/plain": [
              "[array([ 54.4921875 ,  26.33463542,  11.03515625,   4.45963542,   3.67838542]),\n",
              " array([ 49.75352113,  28.52112676,  12.14788732,   5.63380282,   3.94366197]),\n",
              " array([ 53.8585209 ,  29.26045016,   9.96784566,   3.49678457,   3.41639871]),\n",
              " array([ 49.5008808 ,  31.35642983,  11.39166177,   4.05167352,   3.69935408]),\n",
              " array([ 44.20828905,  32.73113709,  13.07120085,   6.48246546,   3.50690755])]"
            ]
          },
          "metadata": {
            "tags": []
          },
          "execution_count": 14
        }
      ]
    },
    {
      "cell_type": "code",
      "metadata": {
        "id": "7k6vPES63mWj",
        "colab_type": "code",
        "colab": {}
      },
      "source": [
        "scoresPercent = np.array(scoresPercent).T.tolist()"
      ],
      "execution_count": 0,
      "outputs": []
    },
    {
      "cell_type": "code",
      "metadata": {
        "id": "WgDJ8wel3mWo",
        "colab_type": "code",
        "outputId": "da4291e4-3d7a-44f3-c4b1-e57e79a21d29",
        "colab": {}
      },
      "source": [
        "scoresPercent"
      ],
      "execution_count": 0,
      "outputs": [
        {
          "output_type": "execute_result",
          "data": {
            "text/plain": [
              "[[54.4921875,\n",
              "  49.75352112676056,\n",
              "  53.85852090032154,\n",
              "  49.50088079859072,\n",
              "  44.208289054197664],\n",
              " [26.334635416666668,\n",
              "  28.52112676056338,\n",
              "  29.260450160771708,\n",
              "  31.356429829712273,\n",
              "  32.731137088204036],\n",
              " [11.03515625,\n",
              "  12.147887323943662,\n",
              "  9.967845659163988,\n",
              "  11.391661773341163,\n",
              "  13.071200850159407],\n",
              " [4.459635416666666,\n",
              "  5.633802816901409,\n",
              "  3.4967845659163985,\n",
              "  4.051673517322373,\n",
              "  6.482465462274177],\n",
              " [3.6783854166666665,\n",
              "  3.943661971830986,\n",
              "  3.4163987138263665,\n",
              "  3.69935408103347,\n",
              "  3.5069075451647183]]"
            ]
          },
          "metadata": {
            "tags": []
          },
          "execution_count": 16
        }
      ]
    },
    {
      "cell_type": "code",
      "metadata": {
        "scrolled": true,
        "id": "IdugQlHD3mWv",
        "colab_type": "code",
        "outputId": "ebccb773-6a79-4227-ebfa-455413f01c36",
        "colab": {}
      },
      "source": [
        "# draw the bar score distribution on these five cities\n",
        "N = 5\n",
        "ind = np.arange(N)\n",
        "width = 0.1\n",
        "barWidth = 0.1\n",
        "\n",
        "ax = plt.subplot(111)\n",
        "colors = [\"r\", \"b\", \"g\", \"y\", \"m\"]\n",
        "\n",
        "rects0 = ax.bar(ind, list(scoresPercent[0]), barWidth, color=colors[0])\n",
        "rects1 = plt.bar(ind+width, list(scoresPercent[1]), barWidth, color=colors[1])\n",
        "rects2 = plt.bar(ind+width*2, list(scoresPercent[2]), barWidth, color=colors[2])\n",
        "rects3 = plt.bar(ind+width*3, list(scoresPercent[3]), barWidth, color=colors[3])\n",
        "rects4 = plt.bar(ind+width*4, list(scoresPercent[4]), barWidth, color=colors[4])\n",
        "ax.set_ylabel(\"percentile\")\n",
        "ax.set_xticks(ind+width)\n",
        "ax.set_xticklabels((\"barcelona\", \"dublin\", \"amsterdam\", \"athens\", \"berlin\"))\n",
        "ax.legend((rects0[0], rects1[0], rects2[0], rects3[0], rects4[0]), \n",
        "            ('5 score', '4 score', '3 score', '2 score', '1 score', '0 score'))\n",
        "plt.title(\"tripadvisor.com top 5 cities\")\n",
        "\n",
        "plt.tight_layout()\n",
        "plt.show()"
      ],
      "execution_count": 0,
      "outputs": [
        {
          "output_type": "display_data",
          "data": {
            "image/png": "[encoded data removed]",
            "text/plain": [
              "<matplotlib.figure.Figure at 0x7f7cbf0984a8>"
            ]
          },
          "metadata": {
            "tags": []
          }
        }
      ]
    },
    {
      "cell_type": "code",
      "metadata": {
        "id": "P0EtCa8d3mW2",
        "colab_type": "code",
        "colab": {}
      },
      "source": [
        "# for 5 stars reviws, extract its keywords, for other stars, extract its keywords as well.\n",
        "# keyword extraction algorithm\n",
        "reviewsDict = dict()\n",
        "# 5-stars reviews\n",
        "for eachColl in allCitiesCollDF:\n",
        "    for score, group in eachColl.groupby([\"score\"]):\n",
        "        if str(score) not in reviewsDict.keys():\n",
        "            reviewsDict[str(score)] = list()\n",
        "            reviewsDict[str(score)].append(group[\"review\"])\n",
        "        else:\n",
        "            reviewsDict[str(score)].append(group[\"review\"])  \n",
        "    \n",
        "# 4-stars reviewsb"
      ],
      "execution_count": 0,
      "outputs": []
    },
    {
      "cell_type": "code",
      "metadata": {
        "id": "kjZFS0EM3mW8",
        "colab_type": "code",
        "outputId": "a954b6e8-0abf-4f20-af48-4a10e01c8ada",
        "colab": {}
      },
      "source": [
        "# the cities order is: \"barcelona\", \"dublin\", \"amsterdam\", \"athens\", \"berlin\"\n",
        "len(reviewsDict[\"1.0\"])"
      ],
      "execution_count": 0,
      "outputs": [
        {
          "output_type": "execute_result",
          "data": {
            "text/plain": [
              "5"
            ]
          },
          "metadata": {
            "tags": []
          },
          "execution_count": 36
        }
      ]
    },
    {
      "cell_type": "code",
      "metadata": {
        "id": "QqglpdLe3mXD",
        "colab_type": "code",
        "outputId": "c25ddf10-c284-4ee7-8708-6a81f71514f4",
        "colab": {}
      },
      "source": [
        "# we take barcelona as example\n",
        "star1Num = len(list(reviewsDict[\"1.0\"][0]))\n",
        "star2Num = len(list(reviewsDict[\"2.0\"][0]))\n",
        "star3Num = len(list(reviewsDict[\"3.0\"][0]))\n",
        "star4Num = len(list(reviewsDict[\"4.0\"][0]))\n",
        "star5Num = len(list(reviewsDict[\"5.0\"][0]))\n",
        "print(\"1 star, 2 star, 3 star, 4star, 5star\", (star1Num, star2Num, star3Num, star4Num, star5Num))"
      ],
      "execution_count": 0,
      "outputs": [
        {
          "output_type": "stream",
          "text": [
            "1 star, 2 star, 3 star, 4star, 5star (113, 137, 339, 809, 1674)\n"
          ],
          "name": "stdout"
        }
      ]
    },
    {
      "cell_type": "code",
      "metadata": {
        "id": "sGmTHCEK3mXJ",
        "colab_type": "code",
        "colab": {}
      },
      "source": [
        "def print_top_words(model, feature_names, n_top_words):\n",
        "    for topic_idx, topic in enumerate(model.components_):\n",
        "        message = \"Topic #%d: \" % topic_idx\n",
        "        message += \" \".join([feature_names[i]\n",
        "                             for i in topic.argsort()[:-n_top_words - 1:-1]])\n",
        "        print(message)\n",
        "    print()\n",
        "\n",
        "def calculate_topicModel(textData):\n",
        "    n_samples = len(textData)\n",
        "    n_features = 1000\n",
        "    n_components = 1\n",
        "    n_top_words = 5\n",
        "    \n",
        "    # Use tf-idf features for NMF.\n",
        "    print(\"Extracting tf-idf features for NMF...\")\n",
        "    tfidf_vectorizer = TfidfVectorizer(max_df=0.95, min_df=2,\n",
        "                                   max_features=n_features,\n",
        "                                   stop_words='english')\n",
        "    t0 = time()\n",
        "    tfidf = tfidf_vectorizer.fit_transform(textData)\n",
        "    print(\"tfidf data type: \", type(tfidf))\n",
        "    print(\"done in %0.3fs.\" % (time() - t0))\n",
        "    \n",
        "    # Fit the NMF model\n",
        "    print(\"Fitting the NMF model (Frobenius norm) with tf-idf features, \"\n",
        "          \"n_samples=%d and n_features=%d...\"\n",
        "          % (n_samples, n_features))\n",
        "    t0 = time()\n",
        "    nmf = NMF(n_components=n_components, random_state=1,\n",
        "          alpha=.1, l1_ratio=.5).fit(tfidf)\n",
        "    \n",
        "    print(\"\\nTopics in NMF model (generalized Kullback-Leibler divergence):\")\n",
        "    tfidf_feature_names = tfidf_vectorizer.get_feature_names()\n",
        "    print_top_words(nmf, tfidf_feature_names, n_top_words)\n",
        "    "
      ],
      "execution_count": 0,
      "outputs": []
    },
    {
      "cell_type": "code",
      "metadata": {
        "id": "JM3lGL8C3mXR",
        "colab_type": "code",
        "outputId": "070352c6-37db-4b72-86b0-b06e968651f0",
        "colab": {}
      },
      "source": [
        "calculate_topicModel(list(reviewsDict[\"1.0\"][0]))"
      ],
      "execution_count": 0,
      "outputs": [
        {
          "output_type": "stream",
          "text": [
            "Extracting tf-idf features for NMF...\n",
            "tfidf data type:  <class 'scipy.sparse.csr.csr_matrix'>\n",
            "done in 0.028s.\n",
            "Fitting the NMF model (Frobenius norm) with tf-idf features, n_samples=113 and n_features=1000...\n",
            "\n",
            "Topics in NMF model (generalized Kullback-Leibler divergence):\n",
            "Topic #0: room hotel rooms stay staff\n",
            "Topic #1: sun hear morning place people\n",
            "Topic #2: icepack medicine asked brout unfrozened\n",
            "\n"
          ],
          "name": "stdout"
        }
      ]
    },
    {
      "cell_type": "code",
      "metadata": {
        "id": "MEO-tKNc3mXW",
        "colab_type": "code",
        "outputId": "e7aa772b-6cbd-49ab-fa4d-d54a8350c840",
        "colab": {}
      },
      "source": [
        "# rerun again with setting n_component = 1\n",
        "calculate_topicModel(list(reviewsDict[\"1.0\"][0]))"
      ],
      "execution_count": 0,
      "outputs": [
        {
          "output_type": "stream",
          "text": [
            "Extracting tf-idf features for NMF...\n",
            "tfidf data type:  <class 'scipy.sparse.csr.csr_matrix'>\n",
            "done in 0.039s.\n",
            "Fitting the NMF model (Frobenius norm) with tf-idf features, n_samples=113 and n_features=1000...\n",
            "\n",
            "Topics in NMF model (generalized Kullback-Leibler divergence):\n",
            "Topic #0: room hotel rooms staff stay\n",
            "\n"
          ],
          "name": "stdout"
        }
      ]
    },
    {
      "cell_type": "code",
      "metadata": {
        "id": "sOCkH-H63mXb",
        "colab_type": "code",
        "outputId": "d5327b87-fe80-47b3-c10d-4e763ec4dd9a",
        "colab": {}
      },
      "source": [
        "calculate_topicModel(list(reviewsDict[\"1.0\"][1]))"
      ],
      "execution_count": 0,
      "outputs": [
        {
          "output_type": "stream",
          "text": [
            "Extracting tf-idf features for NMF...\n",
            "tfidf data type:  <class 'scipy.sparse.csr.csr_matrix'>\n",
            "done in 0.023s.\n",
            "Fitting the NMF model (Frobenius norm) with tf-idf features, n_samples=112 and n_features=1000...\n",
            "\n",
            "Topics in NMF model (generalized Kullback-Leibler divergence):\n",
            "Topic #0: hotel room night sleep staff\n",
            "Topic #1: fee account weeks stayed fine\n",
            "Topic #2: coffee better service bar ups\n",
            "\n"
          ],
          "name": "stdout"
        }
      ]
    },
    {
      "cell_type": "code",
      "metadata": {
        "id": "aQzQXxKz3mXf",
        "colab_type": "code",
        "outputId": "db81d16c-a317-428a-82bb-c5dcb5f85c23",
        "colab": {}
      },
      "source": [
        "calculate_topicModel(list(reviewsDict[\"1.0\"][2]))"
      ],
      "execution_count": 0,
      "outputs": [
        {
          "output_type": "stream",
          "text": [
            "Extracting tf-idf features for NMF...\n",
            "tfidf data type:  <class 'scipy.sparse.csr.csr_matrix'>\n",
            "done in 0.024s.\n",
            "Fitting the NMF model (Frobenius norm) with tf-idf features, n_samples=87 and n_features=1000...\n",
            "\n",
            "Topics in NMF model (generalized Kullback-Leibler divergence):\n",
            "Topic #0: room hotel night rooms stay\n",
            "Topic #1: card credit did reservation hotel\n",
            "Topic #2: service bath cleaning poor people\n",
            "\n"
          ],
          "name": "stdout"
        }
      ]
    },
    {
      "cell_type": "code",
      "metadata": {
        "id": "JQdKuclE3mXl",
        "colab_type": "code",
        "outputId": "33d63f51-0366-4aec-af0b-a8bf6f463504",
        "colab": {}
      },
      "source": [
        "calculate_topicModel(list(reviewsDict[\"5.0\"][0]))"
      ],
      "execution_count": 0,
      "outputs": [
        {
          "output_type": "stream",
          "text": [
            "Extracting tf-idf features for NMF...\n",
            "tfidf data type:  <class 'scipy.sparse.csr.csr_matrix'>\n",
            "done in 2.920s.\n",
            "Fitting the NMF model (Frobenius norm) with tf-idf features, n_samples=1674 and n_features=1000...\n",
            "\n",
            "Topics in NMF model (generalized Kullback-Leibler divergence):\n",
            "Topic #0: great location really recommend highly\n",
            "Topic #1: good metro close nice clean\n",
            "Topic #2: hotel room barcelona staff stay\n",
            "\n"
          ],
          "name": "stdout"
        }
      ]
    },
    {
      "cell_type": "code",
      "metadata": {
        "id": "zUx1imgI3mXr",
        "colab_type": "code",
        "outputId": "f3459b11-a076-49e1-9b45-1d1878b0b0fe",
        "colab": {}
      },
      "source": [
        "len(reviewsDict[\"1.0\"][0])"
      ],
      "execution_count": 0,
      "outputs": [
        {
          "output_type": "execute_result",
          "data": {
            "text/plain": [
              "112"
            ]
          },
          "metadata": {
            "tags": []
          },
          "execution_count": 29
        }
      ]
    },
    {
      "cell_type": "code",
      "metadata": {
        "id": "kdVP8HQj3mXv",
        "colab_type": "code",
        "outputId": "7d9e46f2-b3f3-4d68-8bd0-22c70e4c520b",
        "colab": {}
      },
      "source": [
        "list(reviewsDict[\"1.0\"][0])"
      ],
      "execution_count": 0,
      "outputs": [
        {
          "output_type": "execute_result",
          "data": {
            "text/plain": [
              "['Boy did we learn the hard way!! Do your research before booking!! The only redeeming feature of this hotel is the location close to the city. If I could grade this hotel with a \"0.5\" or even a \"0\" I would. This is a 2 star hotel with a popular nightclub on site. Warned about noise after check in. Even found the hotel provided ear plugs - which didn\\'t work !! We were provided with twin beds in a claustrophobic hotbox! One small window which had to be closed at night to minimise the noise from the nightclub. The ensuite was small and had a broken toilet lid and seat. In the room there was outdated information regarding meals. In reality we found - Breakfast available everyday. Lunch only Mon - Friday. No evening meals for guests on weekends. Bar on a Saturday not open until 11.00pm for the nightclub. No room service. No obvious facilities for the disabled.The nightclub proved to be a nightmare for us with the amount of noise generated and also the noise generated by the staff cleaning up and disposing of glass bottles at around 5 am. Hotel does not provide parking and after being directed to a car park ( 5 - 10 minutes walk away from the hotel) that supposedly gave hotel guests a discounted rate we found that we were charged the normal rate. Wifi poor inconsistent unreliable. The staff came across as indifferent and brusque towards hotel guests.In summary grossly overpriced accommodation for the poor accommodation and service it provides, We do NOT recommended this hotel.',\n",
              " 'Got a cheek to call this a hotel, an absolute dump.I was charged €289 for 2 nights in this hovel, how do they get away with this, in my opinion €15 per night would be more suitable. People take my advice go elsewhere, my towel rail in the toilet was a rusty screw on the back of the door and we had lights hanging off the wall above the bed and a TV that went out of style in the 1980,s, what a dump and in my opinion a death trap if a fire was to break out',\n",
              " 'Worst hotel I have stayed in. There\\'s no AC, holes in the door, holes in bathtub, dirty carpeting and a nightclub in the basement that goes till 4 am. Someone should buy this hotel and make it fabulous. It probably has really good \"bones\" and could be redone as a boutique hotel. The staff on the other hand was VERY KIND when we told them we had to leave due to the noise and the lack of air. Wouldn\\'t recommend this to anyone.',\n",
              " \"Stayed one night, at a hugely overpriced rate, got back to hotel at about 12 midnight. Got to sleep at about 5:30am. Made complaint at about 3am to night manager (Mark, who was very nice it must be said) about the noise, as was told by the receptionist that it would continue until probably 4:30. I was aware of the nightclub when I made the booking, and was prepared to be awake till around 3, but 5:30 is ridiculous. Nowhere on the website does it specify when nightclubs close or when the noise is likely to settle down.Our room faced onto the street, and the windows are not double glazed. The noise from the street, coupled with the noise from the nightclub, was deafening. On checkout I refused to pay the full fee, and without even coming to meet me and apologise, the manager on duty told the receptionist to give me a discount. Now, while I appreciated the gesture, the reduction only brought the charge down to the 'normal' nightly rate, which in my opinion is still overpriced. This is a perfect hotel for those who plan to be out all night, and only get a little bit of sleep. Not for anyone who is going to bed 'early'.\",\n",
              " \"This hotel cost us 170 euros per night. I would rather sleep on the street. I don't know where to start- staff friendly enough, but they would have to be at rates like this. The rest is dreadful .Our room was 6 foot above a very loud noisy night club, youths congregated right below our room shouting, smoking swearing, and very loud music. I had one hours sleep. That's all. the room was hot, so you had to open the window to cool down. This let bugs into the room, where I was bitten all over.The hotel furniture is basically hand made rubbish gloss painted.The TV? It must be 30 years old, 6 inches square and 8 foot off the ground, with no remote, so basically, only one channel.Unless you are young, and a very expensive place to rest your head- go to the more famous hotels, there are plenty off them.\",\n",
              " \"Stayed for 2 nights and as per previous review writer, I would probably rather sleep on the street if given the choice of returning! The staff were friendly enough. However, the rooms were the most run down that I have ever seen. In my employment I have seen very poor homeless accommodation that is like the ritz compared to the river house. The street noise was unbelievable, even with the windows shut. Avoid here if you are a remotely light sleeper. The location is handy for central Dublin but have your wallet ready to be ripped off throughout Dublin. The shower was powerful but the bathroom was very outdated and tiles were loose on the floor and roof. The hotel recommended a parking block and with the hotel stamp we got a couple of euros off the parking bill. Beware - do not park on this street outside this hotel as you are sure to be clamped, we seen this frequently during our two day stay. I didn't expect to stay at a top notch hotel but this 'hotel' is grim. All visitors to the hotels looked disgruntled and miffed!\",\n",
              " 'Booked this hotel for a visit overnight to see coldplay in concert. 200 euro reserved on card. Met with a rather abrupt receptionist who handed us our key and left us to it. Up a narrow staircase we found our room. Brown musty loose fitting carpet flowed from the downstairs right up into our room. The beds were at an L shape. Never seen before!! A door mat was set in front of one bed obviously to wipe your feet when getting out of bed. Sitting on the creaky bed I looked up to see that upstairs had leaked a lot of water that had run down the walls and dried in. Black spot everywhere. The window rattled all night and when we woke up the next morning the sun shone through the moth holes in the curtains. 200 euro and not even a breakfast. Really disgraceful. How do these people get away with calling that place a hotel. A dog hotel would be more apt. Shameful and quite insulting that the owner would assume people would gladly stay and pay for the exceptionally poor excuse of accommodation.',\n",
              " \"Needed a hotel/inn for coldplay concert and saw leeson inn on booking.com for just under €200 for 1 night the fotos looked good and felt that for the price it must be good. The reality was a dirty hole damp walls black spot all over curtains dirty brown carpet with car mats strategically covering stains badly broken glass in front window that permanently rattled noise from street all night the beds ....I've never seen a bed arrangement like it....... I could go on but couldn't give the place any more airtime ... I would say that if you had a big smelly dog and needed to stay in an inn this would be the one as it has the ambiance of a dog kennel\",\n",
              " \"Don't be fooled by the photographs posted of the new refurbished room because like everyone else you will be told that they are not available and will not be available for the duration for your stay. The hotel is very run down however it's really only suitable for young people who don't mind the noise from the nightclub below and don't have very high standards. The blonde receptionist was very rude, but the male night porter/receptionist was very welcoming.\",\n",
              " \"Where to begin! In summary, in 17 years as a field engineer I have stayed in many hotels. This, without a doubt, was the worst experience I have ever had!I arrived on the Monday morning having caught an early flight across to Dublin. Our trusty Team Secretary had booked a room for me here (at the time of booking it was known as 'The Camden Hotel by Thekeycollection'. Arrived early but unable to book in, so dropped my luggage off and went to work. I arrived back at the hotel at 1340hrs hoping to check in and expecting a rest after my early start. The room wasn't available (apparently it needed a 'deep clean'....not a good sign), and I eventually managed to get in at around 1420hrs.No chance of a rest due to the building works going on, so I gave up on any prospect of relaxing until the evening. Some chance! My room directly overlooked the bar area, with a single glazed (obscured) window. The music went on until 2330hrs. Ah well, at least I could lie in in the morning. Nope! Workmen started at 0715hrs! Went off to work and then had a repeat of the previous night, music until 2330hrs.Wednesday night had the added drama that when the music finished at 2330hrs I was able to grab some sleep......until 0230hrs when some noisy guests moved in across the corridor. My polite request for them to keep the noise down was met with a threatening response, and after a few calls to the concierge they were removed from the room at 5am (and they had been smoking in the room too....I hope they got billed the advertised 200 Euros!).At one point I went into the bathroom to see silverfish darting across the bathtub! Not a good sign!The Thursday night saw the music playing until 3am, and when I opened the window and looked out into the club/bar....IT WAS EMPTY!!! What the hell! I even tried to sleep in the bathroom (with the silverfish) but the music was still too loud. The hotel provide complementary earplugs (not a good sign), but I can't, nor should I have to, sleep with these in. I spoke to the concierge several times on the Thursday night to express my dissatisfaction, but it did no use. The music would drop in volume a little, and then creep back up. And every morning, by 0730hrs, I was woken from my brief slumber by the power tools and hammering below.In all, a stressful, sleepless week. The result of which is that our company will not be booking staff in there in future.The furniture was laughably shabby, the bedding starchy, the rooms stuffy (no aircon, and I couldn't open the window due to the noise)...it reminded me of Elwood Blues' room!And those silverfish!!!\",\n",
              " \"First off, I booked this hotel on the recommendation of a tour guide, on the basis it ticked all the boxes for a stag party, the lads are nothing to raucous or salacious but certainly enjoy ourselves and love music. The hotel in itself is clean and basic, its also prepared for noise as each bed comes with earplugs but I cant fault it there, it fit the requirements.But my goodness the booking was a nightmare, I had a deposit paid two months before our stay only to be hung up on, when attempting to pay the rest of the bill in advance. Finally on sorting this out by having to go into the hotel a week prior to check in (thankfully I work close by) . On check in when the other 8 lads arrived again they were asked for more money. I went to the reception and informed them that it had been paid in full using my credit card, this was accepted, but I was told they would have to look into it yet again, leaving everything in the balance until checkout. I have never stayed in such an unprofessional place that continually asks guests for money, I realize they said it was a mistake, fine but there was no recompense or real apology for this pretty large( approx. 1500eur) mistake but I doesn't help the fact that they had my credit card details, I couldn't relax here TBH. Even If I were to be organizing another Stag in Dublin, Id avoid this place.\",\n",
              " \"This hotel is extremely dated and dirty! There are broken tiles on our bathroom floor and mold in our shower. The hotel does not have in room a/c so it's loud with the windows open and all I hear are seagulls, drunk people and traffic!\",\n",
              " 'All the advertising for this hotel mentions that it has its own bar -it does not. Turns out the bar was closed some months ago. Another misleading statement is \"free wifi\" -the wifi here is so weak it is unusable even for checking emails, let alone anything more demanding. We chose this hotel partly because it is close to the centre of Dublin. This is absolutely the only positive point I can make for it (however, it is not a nice area) -in retrospect, we should have stayed somewhere nicer and used the bus! The prices seem cheap, but you still get bad value for money as this place is little more than a hostel.The room was tiny, with broken furnishings, burns all over the patched up carpet, horrible bed -really uncomfortable. The bathroom was shabby and cramped. Water in the shower constantly fluctuated in temperature making it hard work. Very noisy, no double glazing and, it would seem, paper thin walls. Constant creaking of floorboards, noise from TVs, talking etc.The hotel feels un-secure. They have a terrible system where they ask you to leave your key at reception whenever you leave the hotel, but when you pick up a key no-one checks who you are (and the reception staff were different every day). Seems too easy for someone to just walk in and just get any key! We took our valuables out with us at all times, despite the inconvenience.Another dubious thing is that there is no drinkable water from the taps (unsafe due to lead pipes we were told) so if you want to use the kettle in the room you have to go out and buy bottled water for it!I am a low-maintenance traveler and was expecting something cheap and basic from this hotel, and that would have been fine, but the place is just awful.',\n",
              " \"This was the worst hotel experience I've ever had - I was hesitant to book in the first place, but had issues with my flight and needed a place to stay. The hotel offered a 10% off promo on their website, which they then did not honor. When I explained my booking experience, and showed the 10% discount to the hotel staff member at reception he said the discount had already been included, but he wasn't able to tell me the full price before discount. It was a complete scam, he was incredibly unprofessional, don't stay here! The area is also not that great, getter off finding a hotel south of the river.\",\n",
              " 'Bad in every way dont stay. Over priced out of date not acceptable in this day and age and expensive for what it is. I was booked in here for 4 nights with my daughter for a course she was doing. The night watchman was unhelpful the room was small and smelled stale. We got up early went across the road for breakfast as there was no way Id eat anything in Barrys. We booked in across the road 5 times nicer rooms and surroundings lovely staff and much less money too. So just go across the road if you need to be near this place',\n",
              " \"The staff are lovely - really helpful, kind and friendly. However, the hotel is falling apart. It's grubby at best (filthy in parts). The breakfast is horrible. Any price is too much. I stayed here loads of times in the past and always thought it was acceptable for the price and the fabulous location. Not anymore. It needs to be closed down and renovated. It could be lovely. The location is great.\",\n",
              " \"This hotel is a major dump. Some of the staff (not all -- there was one young man who was so helpful in finding us a taxi after telling us that Uber doesn't have enough cars there!) were so rude and disinterested, they should really find another job. The room had lights that were broken, some hanging out of the ceiling, one of the night tables had a handle pulled off so they simply drilling another hole to the right and put another in, the shower was built for people 4 ft. tall, and the floor of the bathtub was so slippery that my 25 year old niece fell and thought she broke her leg. It is a terrible hotel. Pay a little more and stay somewhere else.\",\n",
              " 'Location is good, rooms are clean although on the small size. However the beds are not too comfortable and the noise from the pub downstairs is unbearable. In other countries this place would just not get a licence as a hotel. We would recommend travellers to keep off this noisy place!',\n",
              " \"My niece had her communion here and we weren't happy at all with the food. I had chicken wings for starter which had barely any meat on them and got about 3 on the plate. The mains came out about 30 minutes after and I got penne pasta which was absolutely vile to say the least. The pasta was dry and hard and the sauce tasted like tinned tomatoes. It was basically day old pasta with a tin of tomatoes poured over it with no meat or anything. Disgusting\",\n",
              " \"We needed a convenient hotel to stay in with airport shuttle for our early morning flight out of Dublin. This place is located in a sort of wasteland. We pulled up, the cab driver didn't even know this place was here & seemed afraid to just leave us here(!), there was a group of loud guys from the pub next door outside. Our room was typical Travelodge, but the view outside was a crappy apartment complex with loud people. We were hungry, but I didn't want to walk around the sketchy neighborhood! No way would I ever go here again!\",\n",
              " \"We stayed here for one night. We were very disappointed in the hotel and staff. At arrival with the car we saw a lot of alcoholics around the hotel. Not the thing you like to see with a small child. The lady at the reception was so ignorant I couldn't believe it. I asked when i booked the room for a cot. But there was no cot in the room. When my husband went down to reception to ask for one. It was such a big deal to get one for us. We had a room to the back of the hotel and it was so loud from all the people outside and also music!!!! And also the smell from cigarette smoke from the outside of the pup was unreal!!!!! All I say I will NEVER again stay in this hotel!!!!!\",\n",
              " \"A lady checked us in who was nice and as we arrived at 7am, agreed to let us check in at 12pm rather than the usual 3pm. She left and got another receptionist to take over. Name was Emilio who was comparably less accommodating than the first lady. He was very rude and made us feel like we were school children being told off rather than enduring good customer service. We asked for adjacent rooms and he said IF its available and not that he'll try. He was very dismissive and had a very bad attitude. Inside the hotel, it was clean and the rooms were clean but the shower cream was empty but luckily there was a supermarket where we were able to buy some toiletries as the toilet provided none but tissue paper. Hence the price we paid for it. The room was too hot and the window only opened a few inches. There was no other ventilation or air conditioning so had no choice but to sleep in a very warm room. We had breakfast at the hotel and considering we had it at 8am and it was not very busy, it was a big let down that they had ran out of orange juice but we had no other drink but milk. The area was a bit rough and because it was a warm room, we had to have the windows open. We had to listen to 2 drunken men outside shouting at each other. Also witnessed one of them urinating at the bus stop. Not a pleasant sight. I would not recommend this hotel as its a bit far from the city centre but it is easy to get to the airport as there is a shuttle that comes every 20 mins for €3 pp.\",\n",
              " \"We had a table booked as part of a hen do. We ordered of a set menu, choice of 3 starters, mains and desserts. Once we had sat down it took a while for us to be acknowledged and the service was slow for the whole evening- we only ever saw 1 waiter. Would be a lot better if they had more staff. They sat us in a dark corner upstairs.Water was provided at the table, However he asked us if we wanted to order drinks then before we answered ran off and didn't return for 30 minutes so we had to go downstairs and order wine at the bar.The food was hit and miss, the starters were all delicious. However the burger I had was over cooked and served cold. The music was extremely loud and difficult to talk as a group as couldn't hear people across the table. Drinks were extremely expensive.There were only 2 toilets for the ladies (not enough for a venue of this size) so gave up queuing to go at one point must have been waiting 15 minutes. Also one toilet had no toilet roll. This is more of a bar than a restaurant, even then drinks are very overpriced probably due to it also being a hotel & mostly tourists visiting. Overall, I would not recommend this hotel for a meal for a hen party.\",\n",
              " \"Stayed here for just 1, midweek evening, thankfully!We booked 3 rooms and were given neighbouring rooms on the 1st floor overlooking the street.Upon check in, my key card refused to work for my room. I went back down for them to reactivate it and climbed back up the stairs. This happened three times before I could get in to the room!It looked pleasant enough upon entering, but there was a lot of noise from the busy road out front, so I went to shut the window. Only, it wasn't open. That's genuinely just the noise you have to put up with through the paper thin window! Hopefully you are not a light sleeper like I am.Unfortunately from there it all went down hill. My bedside lamp didn't work, the socket by the bed had something snapped inside, there was something under the radiator which I hoped was just an old malteser that had been missed when the room was supposedly cleaned. The bathroom was also very tired looking, the soap tray under the shower was only just hanging on to the wall.On the plus side, the bed was comfortable and linen and towels were clean. The bar downstairs has a superb interior and great ambience.Given, it's a great location, but at the end of the day I expect a good night's sleep from any hotel, the other mishaps only added to my annoyance from lack of sleep and given the price of these rooms I'm not even the slightest bit tempted to review at more than 1 star.\",\n",
              " \"We have spent sature au night 22nd Of July in this hotel and are very disappointed. We haven't been warned that there was a party going on just under our room when we booked the room. This should have been a minimum to warn us.The music was very loud, and even the floor was vibrating! We had a flight at 6 a.m. on sunday so woke up à 3:45 a.m., without being able to sleep before 0:40 - 1:00 am!!When I asked info on that party to the night receptionist, and if we could change room or a have a reduced price due to the circumstances, all he could say was that it's normal in Dublin, saturday is busy/party in the town center and that if we want calm we have to choose a B&B!I'm sorry but I've worked for 2 months in the Clarence Hotel in Temple Bar and I can tell that it was very quiet! Last time we went in Dublin, last year, we slept in another hotel closest to the city center and it was very quiet too!Additionnal to this, the flush was very slow: really comfortable when you are 3 in a room! The beds are ridiculously small (I'm 1m85 and my feet were out of the bed...)And we paid 285€ for this!!!!I sent a mail to the hotel's manager a week ago and no answer!Sure we won't come back!\",\n",
              " 'Being someone who travels extensively for work I can say I\\'ve experience my fair share of dump hotels. This place however tops them by a good way. It\\'s pure nasty so where do I begin? I\\'ll start with minor grievance of only 1 towel in a 2 bed room. I\\'ve had 4 towels in a no star hotel in Lobito. The front desk staff are not up to their job and are clueless. Could not offer alternative room when I complained at the rooms allocated. Small shoebox rooms with old and substandard furniture. Our daughters bathroom is smaller than our downstairs guest washroom so it\\'s a little on the snug side. Our rooms do have a fantastic view that is if you are an avid trainspotters and want to experience the closeness and rattle of speeding locomotives at all hours. \"Ah this city center hotel this normal and what you get\" was the sympathetic front desk reply. The all day restaurant is all day if you exclude a large proportion of the day. The photos on the website and booking sites must have been extensively airbrushed or outright doctored as even with lights off and a skin full of Guinness would I be would be hard pushed to say the room is the one shown online. To top it all they claim to have been awarded the hotel of 2016. In what way was that even remotely possible? The only way I can get my head around that if if the catagory was \"The best hotel call Beresford on Store street as judged by morons\". A disgusting dump that could and should have a more detailed review however, I feel aggrieved at wasting my money on this place I didn\\'t want to waste any time on it but dealt compelled to try and save any poor traveler making the same horrendous mistake I made.',\n",
              " \"Not brilliant.....Grubby rooms, thread bare carpets on main stairs, smells of damp in the stairwellWardrobes knocked up by inept Carpenters, bathroom had mildew on bath surrounds, and the sink was sunk into what seemed to be an excuse of some old piece of kitchen work surface! Radiators were grubby & rusty.... Plaster falling out of RSJ's/ wall supports! Good attempt to hide that behind the curtains folks!!Advice for prospective guests, avoid room 221. Advice for owners, SORT IT OUT and put a bit of your profits back into your business All this for £390 for two nights room only! Welcome to the rip off Parliament Hotel\",\n",
              " \"When I stayed here in June with my friends and they're sisters we first got there and couldn't pay by card it had to be the one it was booked on which was very awkward we then stayed a night and cleaned the place up the next morning and a week later told there was 250 been takin of our account when the maximum fee was 200 they had no explanation for it or no proof either and it wasn't cheap to stay in for a night either!!!\",\n",
              " \"I was excited on arrival by the look and feel of this hotel, but by the time I left the following day I was utterly disgusted by their utter disregard for their guests' comfort and satisfaction. I thin the following response to my agent's complaint letter will tell you all you need to know about why you should choose ANY other hotel in Dublin. So disappointed - Goodness only knows just how appalling it might of been, had I been a leisure traveller!Management Response:I'm sorry your client had a noise affected stay with us. Thanks for taking the time to flag this with us. We do have big issues with noise on Harcourt Street. We have some rooms that are quiet-er but nothing we'd consider silent by a long stretch. Harcourt street is the singlemost busiest area in Dublin/Ireland for nightlife in general, we're completely surrounded by night clubs/late venues. Although there is little we can do to control this, we try to assign the quiet-est rooms to corporate guests, longer stays, pre-requests etc. to minimize the impact on our guests. I'm sorry if this wasn't communicated on arrival, I will follow up internally to prevent the next guest from being in the same position.  As recently as this week we have undertaken additional construction work/acoustic insulation at our expense to isolate us from our neighbours. We're working hard behind the scenes as a management to lessen the impact of noise on our guests comfort.  In relation to the lights, coffee machine and basin - we greatly appreciate feedback and I have personally followed up with our housekeeping and maintenance teams to ensure it does not happen for another guest.  As a gesture, let me look after your client for the following should you ever be in a position to return:\",\n",
              " \"Not impressed! Rude reception staff. Extremely rude manager. Myself & two friends stayed in Blooms as we attended a concert in Dublin. When we arrived back at hotel after our night out, it took the doorman about 15 minutes to answer the door! There wasn't anyone on the reception desk or answering the 'phone! We were three women, in a not-so-friendly part of town, who didn't appreciate being locked out! At that hour of the night, approximately 3am, it isn't safe anywhere! The breakfast was horrible and I had to ask 3 times for some ice for the OJ as it was just sitting out all morning. This hotel is a pure tourist trap and they should be ashamed to be changing people to stay there! NEVER AGAIN! I wrote a review on their Facebook page and they didn't reply- I noticed that they only replied to 'nice' comments- which there weren't many of!\",\n",
              " 'This Hotel has a great location and should excel.The bar food is average and the service very slow. It also is expensive.Well intentioned staff need better customer focus.This is my first experience with half a cup of coffee for the price of a full one.No coffee top ups here.A lot of work to do.There is a reason why three sets of tourists walked out - Service needs serious improvement in this bar. There are much better options in Dublin.',\n",
              " 'My mother and I stayed at your hotel last week and overall it was a dreadful experience.Firstly, it was described on Booking.com as a “quiet haven”. It is not. For a hotel surrounded by car rental depots and other commercial and industrial premises, it is totally misleading to describe it as a quiet haven.When we arrived tired and hungry at 9:30pm, later than planned due to travel delays, we were told the restaurant was closing, even though we had called earlier to check we could still get food until 10pm. The receptionist (who greeted us in a rather cold and fed-up manner) called the wait staff and ordered them to keep the kitchen open, so we rushed through to the restaurant. The waiter to be fair was sweet and smiley, but he did start the conversation by saying ...”oh the chef is gonna be pissed off, grab a table and order quickly!”. The food was not good. We had booked a twin room that, according to the photos on Booking.com had two small double beds. On arrival we were told by the receptionist that we had been upgraded to a suite. However, the “suite” was a room on the ground floor, at the front of the hotel, next to the busy car park. It was a room with one small double bed a tiny single bed. It was noisy and depressing. My mother was really quite upset as this was not at all what she expected when booking. I went back to reception to query the room, and before I had even finished my sentence I was interrupted by another grumpy male receptionist to be told they were fully booked. This was not an answer to the question I was trying to ask, but it did make it a little clearer as to why we had been “upgraded”. I have worked in the hotel industry as an assistant manager and I know how these things work, so it was not a kind gesture but actually a shuffle of rooms to accommodate all the guests. In short, the two receptionists were very unhelpful, cold, and dismissive. We went to bed feeling really deflated.The next day we tried to look on the bright side, we had a nice day out in Dublin but had already decided that this was not the hotel we had thought we’d booked, and certainly not the quiet haven we expected. As a consequence, on Thursday morning (we arrived Tuesday night), we changed our flights to fly home 2 days early. The hotel gave us a receipt for all 4 nights even though we had only stayed two. They said that this was because we had paid up front through Booking.com. They tried to charge us for all 4 breakfasts (we had only had two), until we asked them to please refund us the £40. The staff in short were awful, and since returning home we have tried to get a little compensation for the 2 nights we were not there for, but no response. I highly advise steering clear of this so called Hotel.',\n",
              " \"Stayed here on the 10th of July and was very unimpressed with the customer service we received at reception when checking in. I had booked the hotel through hotelsireland.com with a voucher I had received. I had all the confirmation letters printed out and in order but when we went to check in the receptionist straight out refused to accept the confirmation booking and stated that they didn't accept the voucher, even though I had the paperwork. She stated that I didn't book through the voucher website and that they couldn't accept it as part of the payment. She then implied that the fault was on my part and that I had to sort it out with hotelsireland.com as she had other customers to deal with, which I found quite rude. To check into the room we had to give the full amount deposit on my Visa card - which took 7 days before I could access that money again. The whole ordeal took over 30 minutes. I rang hotelsireland and they were so helpful - I gave them my reference number and they checked it out saying everything was in order and that the booking was sent to the Hampton the day after I had booked. The lady then rang the Hampton herself and sorted the whole thing out in a matter of minutes. On checking out I paid the remaining balance - which I was expecting to do in the first place but was still €150 out of pocket for 7 days because of the deposit payment I had to pay unnecessarily. It immediately gave us a bad impression of the hotel and its service - when clearly the whole thing could have been sorted in a few minutes! Bad vibes and won't be returning!\",\n",
              " 'Easy access to all the sights and temple bar, shopping, cathedrals, castle but clearly not worth the price. Felt like a very low rate motel when there are plenty of other options in the area that are much nicer.',\n",
              " 'Room through a maze of corridors - no offer of help with luggage - reception rather disinterested!Room has very thin walls - currently listening to guy next door talkingNo air-con, windows open as very stuffy - from 3 am has been noise of trollies, skips being loaded and moved - incredibly noisy. Sounds like bin lorries or similar for hoursRoom must be over kitchens as smells of breakfast cooking from 6am.Room ok but not the cleanest - literally an inch of fluff and dust on side lights above the bed -they are filthy. Furniture tatty and marked, general all a bit run down and scruffy, dated and dingy.',\n",
              " \"My friend and I stayed in this hotel a couple of weeks ago. I booked thorough booking.com 24 hours before we stayed. The hotel advertises no booking fee on their website but apparently according to one staff member in the 'fine' print it states that the hotel will put a holding fee on your booking but your card will not be charged. When I checked out I paid for our stay. That was two weeks ago and the holding fee is still on my account and there is essentially 300 euro in my account I cannot access. I just wanted to let future guests know as this has been a serious inconvenience for me this last two weeks.Hotel was fine, bed was fine, bathroom.\",\n",
              " 'I specifically requested a quiet room when making booking & the possibility of a newly refurbished room. Had a bad feeling when there was a snigger about the possibility of a newly refurbished as we were getting a mid summer madness deal but was guaranteed a quiet room which was crucial for our stay! Confirmed upon arrival \"yes, we will have a quiet room\". Lying awake the last half hour due to a delivery van with carpet clean outside our wide. We awoke often throughout night with street noise. Was told parking was 10 minutes walk but never told it was Clerys Carpark & drove around in circles to find it. Have to spend another night here, very unhappy, never again. On first floor, restless sleep with important day ahead, yes it is what it says; \" mid summer madness\".',\n",
              " \"We stayed at The Clarence on the tail end of a week-long trip to Ireland and were very excited to stay here. Big mistake. It was a total dump. We had two rooms, and both were filthy. The bathrooms floors were sticky and spotted, the shower curtain liners were black with mildew, one room had a horrible and persistent smell, one sink did not drain at all, the vents were covered in dust, there were random smears of Gd knows what on the shower walls, one room's windows did not open at all and there was no AC or ventilation. Gross and loud, as our rooms overlooked a beer garden next door. The lobby was likewise nasty, with a sticky counter and floors. I am not sure how other guests gave good reviews, this hotel was totally sub-par, especially for the price.\",\n",
              " 'Let me start with a positive. The hotel is in a great location in the Temple Bar area. It ends there. Upon arriving at the hotel, I was underwhelmed at the cleanliness and effort to update the hotel. For £350 per night, it was rundown. The bellman took me to my room and it appeared that the carpet hadn\\'t been cleaned in years. The room was dingy and in need of a good updating. After returning to my room for dinner and drinks, there was a raging party going on down the hall. No big deal I thought, it will die down eventually. At 1:00 AM it was still going. I informed the front desk and they told me \"there was nothing that they could do\". Apparently, a group had reserved that part of the hotel for a party. I asked to change rooms and was told that since I\\'d already been checked into this room for 9 hours, it wasn\\'t possible. I was offered a tiny discount on the room instead. I don\\'t want a discount, I want a quiet night of sleep!! To be clear, the issue was not the street noise which is a modest hum given the hotel\\'s proximity to the bars in the area. That would have been tolerable. The next morning when I checked out, I made mention of the issues. They gave me the Managers card and told me to email him. So, I did, and after four days, I received a snarky response from the manager telling me that it was well documented on the website that it\\'s a noisy hotel??? In addition, he mentioned that I\\'d likely never be back anyway since I was from out of the country so there was nothing that he was willing to do. He also mentioned that I was the only complaint of that night which is a bold faced lie as when I was at the desk complaining about the noise, so was another guest. To make matters worse, I asked for the hotel to arrange a car for me. When I checked out, I inquired whether or not the car would accept a credit card. I was assured that it would. When I arrived at the airport, I was told \"cash only\". What a disappointment. Stay away from this run down, overpriced hotel that is managed by arrogant employees.',\n",
              " 'I stayed 5 nights in May 2017 at the Waterloo House. The house is quaint, my room had a nice view and breakfast was delicious, but my experience was tainted by electrical issues. In a nutshell: plugging my laptop adapter in a power outlet at this house KILLED THE ADAPTER. Here’s how it happened: When I first arrived in my room, I noticed one of the lamps would not turn on. I notified the clerk at the desk that the lightbulb was burnt, but she said that this outlet did not work, adding that the electrician could not figure out why. Fine, I thought, I’ll use other outlets and lamps… I should have been more suspicious of the state of the electrical wiring, because as soon as I plugged in my laptop to charge it – in another outlet of course – the power went out in the room and my charger had a burnt smell! I notified the clerk again, and while she was very nice, she did not seem particularly surprised, and suggested I talk to Evelyn (Corcoran), the owner. Evelyn nicely told me that this “hardly ever happens”… indeed, she said THIS HAD HAPPENED BEFORE, but to other devices (!). I understand this is an old house (that’s part of its charm), but a faulty electrical system is not what I expected. Being in Dublin for work, I needed to be able to charge my laptop, so I went to a computer store. The employee said the “frying” of my adapter was likely due to a power surge. I had to buy a new adapter there, then one back home: I am Canadian, and the computer store in Dublin (of course) did not have adapters with North American plugs. This cost me 53€ (about 80CDN$) for the adapter bought in Dublin, plus about 31€ (48CDN$) for the one bought at home, for a total of about 84€. Not a fortune, not as bad as if I had found bedbugs in my room of course, but still frustrating!Evelyn has not offered (or accepted) to cover these expenses, she says this is likely due to a faulty charger, despite the fact that my laptop is of a renowned brand, the charger is 100-240V and I used it many times in Europe (using appropriate outlet adapters of course), in the UK, France, Spain, Greece, Norway and elsewhere in Dublin, for instance at University College Dublin where was the academic conference I was attending. I travel a lot for work and pleasure and this had never happened to me. I must say, it somewhat ruined what could have been a very pleasant stay at the Waterloo House, and I feel that other travelers should be aware of this risk, and the potential danger that comes with staying in a house with electrical issues, before booking . Evelyn wrote me that she “could not run a business with an electrical fault as it would be very dangerous”… I agree about the danger part. BOOK AT YOUR OWN RISK!',\n",
              " \"Firstly, I have to say that the hotel is very well appointed however we feel let down in many critical areas. The room was 303 euros for the night so keep that in mind the room provided had NO WINDOWS. It had a roof light and 2 very small high level daylight fan lights so in effect we were given a box. The explanation from the front desk manager was that this is a handicapped room. So the assumption from the comment is that handicapped people don't need a view. We were disturbed after 10pm by housekeeping offering a 'turn down service'. We did take this up with Mr Zhou front desk manager after our stay and he did offer to upgrade our room next time 'if available'. If not we'll have to accept the windowless box again I guess. I genuinely felt very uncomfortable about this lack of window it made me very anxious and i'm not the handicapped partner. Really upset and disappointed. Westin Gold Member and loyal to the brand no longer\",\n",
              " \"We were looking for a highly rated hotel in the centre of Dublin and many people recommended Westin. At the price of over 300 per night this is what we got:- drunk obnoxious neighbours who were falling in and out of their room slamming the doors all day and all night - hotel staff that offered to move us (even though we were sleeping rather than moving the drink neighbours). We checked another room which was even worse than the room we had before. It was facing inside the hotel in the bar area so windows could not be opened. So hotel's idea of helping is downgrading the room - elevator that smelt like two days old alcohol and made us want to throw up going into it - after getting no sleep, I had to get used at 7am for work So if you are looking for somewhere nice to stay that is professionally ran and has knowledge of hospitality, DO NOT STAY AT THIS HOTEL!\",\n",
              " 'Used to be when you were in Dublin the staff were extremely pleasant. Well at this hotel the staff act like KGB officials and are very rude. They were intentionally rude to my highly educated daughter and I am a Lifetime SPG Platinum meaning I have spent over 1,000+ nights on the road in SPG hotels. Additionally on some very hot nights the AC did not work in the room, and they put us in a tiny room all the while the staff acted like no big deal.Well YES it is a big deal as our worldwide staff has been instructed that Westin Dublin is no longer a place they may stay at.We VOTE with our wallets Mr. GM and as the Chairman of a worldwide conglomerate I assure you no dollars will be spent at your hotel.Avoid this hotel much better options where the staffs are polite and respectful of a hotel guest.the Doctor hit me with some LOVE and a helpful vote!',\n",
              " \"Firstly, I have to say that the hotel is very well appointed however we feel let down in many critical areas. The room was 303 euros for the night so keep that in mind the room provided had NO WINDOWS. It had a roof light and 2 very small high level daylight fan lights so in effect we were given a box. The explanation from the front desk manager was that this is a handicapped room. So the assumption from the comment is that handicapped people don't need a view. We were disturbed after 10pm by housekeeping offering a 'turn down service'. We did take this up with Mr Zhou front desk manager after our stay and he did offer to upgrade our room next time 'if available'. If not we'll have to accept the windowless box again I guess. I genuinely felt very uncomfortable about this lack of window it made me very anxious and i'm not the handicapped partner. Really upset and disappointed. Westin Gold Member and loyal to the brand no longer\",\n",
              " \"Worst breakfast I believe I have encountered anywhere in the world, particularly in light of the 4 star rating - inattentive staff (busy but not serving); very poor cooked food quality (undercooked bacon, sausage with gristle, unappetising scrambled eggs); toaster not functioning resulting in long queues and wait time; teapots leaking etc etcManagement need to observe this 'faulty towers' experience and make rapid improvements.\",\n",
              " 'My family and I stayed at the Spencer in June 2017. The hotel was nice, but we had a very bad experience with parking and retrieving our rental car. First of all the hotel is not set up for parking. They have an underground garage two blocks away with no attendants. After a few attempts I parked our rental and registered my license number and space with the front desk. The day I was going to leave for the airport. I went to move the car, and found out I had a boot / clamp attached, Here I was parked in a wrong space. Even though I was given instructions to park in this # place and the garage was 1/3 full, someone decide to call the parking authority vs, call the hotel. Because I had to catch a plane, I had the hotel deal with Hertz. The clamp / boot caused damaged to the wheel well. 3000 euros later, I find out my credit card, does not cover Ireland collision. Of course the hotel claims no responsibility and they gave me a hard time when I was trying to resolve. Lesson learned. Parking at Ireland hotels is a challenge. Avoid a rental car in Ireland and / or check your credit card for Ireland Collision coverage. Chase Visa is the only exception.',\n",
              " \"Paid $530 ($265 per night) for a room with poorly designed bathroom causing lake on bathroom floor every time showered. This is causing mold and mildew on door molding. Plus the ceiling over sleep area is peeling and moldy. Shame on management for allowing guests to spend good money to be put in these type of accommodations. Managment's solution was an insult. Refunded $45. DO NOT STAY HERE!!! See photos\",\n",
              " 'Standard Quality Hotel for 235EUR .... What is the reason to offer a standard business Hotel for a price of a lux hotel. If I want to sleep and to eat a Hamburger and drink a beer I do not want to pay such kind of high price.',\n",
              " \"Stayed for 4 nights for a mixed business and weekend break. The hotel has a great feel, and on first impressions at the front desk are very professional. The rooms are of excellent quality, you have everything you need. My problem with the hotel is it falls down with very sloppy service. We ordered room service on two occasions, and it didn't arrive, when you called to question, the line was constantly busy. Breakfast was dysfunctional it took forever for the staff to take your order, and when they did on two days running the wrong order was eventually delivered. Upon check out I was presented with a bill for 2000 euros, very expensive, I was asked if everything was OK. I clearly said no, and was promised a call back from the manager. A week later I'm still waiting. I've posted a review on the IHG website, where the hotel has an excellent score of 4.6 out of 5.0. My review was blocked. Don't stay unless you want an expensive hotel, with sloppy service.\",\n",
              " 'We stayed here during part of two week trip through Ireland, London, and Scotland. First of all, the location was terrible. Even though the tram is right outside the hotel, you are as far away from the attractions as you can get. Also, the entire area is under construction and felt very unsafe. The room was also a let down. It was small, outdated, and the curtains were not even attached to the rod, so we were not able to close them. We were put in a room with two twin beds and our daughter had to sleep on a cot/roll-away bed. All were extremely uncomfortable. Not that we were sleeping anyway, but it was extremely loud! On our second night, the hotel hosted some sort of party that kept us and several other guests up until after 11;30. When we called to complain, we were told they would shut the doors, but that never happened.We basically stayed out exploring as long as possible to not have to return to our room. Although we did not like our hotel, we did love the people of Dublin!',\n",
              " \"Extremely noisy, unable to sleep in the new part of the hotel due to a bar that stays open until 2/3am (that the hotel do not own)Staff very polite, service exceptional. Shame you just cannot sleep!!! In the 'new building' anyway.Also, no decent water pressure in shower & towels are not 5star. Like the thin 'flannel' type. Awful.Cocktails, dinner & old part of hotel do seem 5 star and were lovely.Just the extension that seems to be poor. The shame is the staff seem to know of the issues and so were unreservedly apologetic....even the cab drivers know about this place's problems!!!!The senior management should not be selling rooms near the bar unless warning people or heavily discounting.You should not be charging for these rooms!!!!\",\n",
              " 'Easy access to all the sights and temple bar, shopping, cathedrals, castle but clearly not worth the price. Felt like a very low rate motel when there are plenty of other options in the area that are much nicer.',\n",
              " 'Only real thing in the Hotels favour is its proximity to the Aviva, this is one of the worst Hotels ive stayed in just felt that there was no atmosphere and everything was a total hassle for the staff. I travel a lot on Business throughout the year and the Hotel is terrible value for money especially when it is so dated.',\n",
              " 'Great location, nice decor, terrible cleanliness, sloppy housekeeping. This hotel has the potential to be so much better. Not sure how they can claim its star rating especially as the advertised swimming pool is actually down the road in a school??',\n",
              " 'Run down, in need of repairs, no charm except the reception area and overall lackluster experience at best. Roof was leaking from the upstairs shower in a waterfall. Elevator down all day, busted furniture in room, wet paint signs left up for 4 days when dry anyway. Dirty towel reused. It was a horrible stay in an amazing city that brought our overall trip down a notch. There are SO many charming options in Dublin. LOOK ELSEWEHRE.',\n",
              " 'Room through a maze of corridors - no offer of help with luggage - reception rather disinterested!Room has very thin walls - currently listening to guy next door talkingNo air-con, windows open as very stuffy - from 3 am has been noise of trollies, skips being loaded and moved - incredibly noisy. Sounds like bin lorries or similar for hoursRoom must be over kitchens as smells of breakfast cooking from 6am.Room ok but not the cleanest - literally an inch of fluff and dust on side lights above the bed -they are filthy. Furniture tatty and marked, general all a bit run down and scruffy, dated and dingy.',\n",
              " \"I booked this hotel for one night, it was booked for 2 adults and 2 children but when we got there they only had a double room, so we stayed in the room with one double bed the staff was very unwelcoming and rude, the rooms was small and very warm u couldn't open the small window because of the noise outside, the fridge didn't work it didn't cool the food. My son was sick and the staff was so unhelpful they told me to clean it myself and if the room can't be booked out again until they can bring in cleaners because the housekeeping only hoover the floor I will be charged a extra night or 2\",\n",
              " 'Worst hotel I have stayed in. There\\'s no AC, holes in the door, holes in bathtub, dirty carpeting and a nightclub in the basement that goes till 4 am. Someone should buy this hotel and make it fabulous. It probably has really good \"bones\" and could be redone as a boutique hotel. The staff on the other hand was VERY KIND when we told them we had to leave due to the noise and the lack of air. Wouldn\\'t recommend this to anyone.',\n",
              " \"Stayed one night, at a hugely overpriced rate, got back to hotel at about 12 midnight. Got to sleep at about 5:30am. Made complaint at about 3am to night manager (Mark, who was very nice it must be said) about the noise, as was told by the receptionist that it would continue until probably 4:30. I was aware of the nightclub when I made the booking, and was prepared to be awake till around 3, but 5:30 is ridiculous. Nowhere on the website does it specify when nightclubs close or when the noise is likely to settle down.Our room faced onto the street, and the windows are not double glazed. The noise from the street, coupled with the noise from the nightclub, was deafening. On checkout I refused to pay the full fee, and without even coming to meet me and apologise, the manager on duty told the receptionist to give me a discount. Now, while I appreciated the gesture, the reduction only brought the charge down to the 'normal' nightly rate, which in my opinion is still overpriced. This is a perfect hotel for those who plan to be out all night, and only get a little bit of sleep. Not for anyone who is going to bed 'early'.\",\n",
              " 'This was the biggest mistake I have made on my trip to Ireland. Please learn from my mistake. This place must make money on the bar only, it did not look like they put any money into the hotel itself. The sour milk/beer smell in the room was horrible. The twin beds leaned to one side, had to use a pillow to stop from rolling off the bed, cramped,small. The bathroom was so small you had to turn sideways to get into the 4x4 shower that did not have hot water. The music and young kids started lining up at 6pm for a night of fun... don\\'t worry but 4AM they were leaving , but then again the staff would start putting the empty kegs on the street at 6AM sooo enjoy the 2 hours of sleep. Food was not hot...or tasty. The dining room was a makeshift coat check at night made sure it still had a wonderful \"aroma\" in the morning for breakfast.... Please note...pay the extra few dollars and find a better place.The only plus side....it\\'s walking distance to down town.',\n",
              " \"Hopfully someone contemplating this hotel reads this and saves themselves the hassel. I've never written a review for a hotel but here I am writing my first review on my way to a new hotel.Paid for two nights and checked out after a couple of hours due to the extremely loud music of their downstairs Bar/Club. Reception told me it would continue until 3:30am, and they offer ear plugs.If you're looking for a hotel room where you want to sleep before 3:30am this isn't it.\",\n",
              " \"Shabby run down room, sheets stank of smoke. Shower door had to be held shut to prevent flooding the bathroom. Blaring music from nightclub kept me awake until 3am. Ear plugs in bathroom didn't help because my bed was literally vibrating from the music. This hotel may be good value and right in the heart of Dublin but it's not suitable for business travellers who value their sleep and appreciate small creature comforts when away from home.\",\n",
              " \"Needed a hotel/inn for coldplay concert and saw leeson inn on booking.com for just under €200 for 1 night the fotos looked good and felt that for the price it must be good. The reality was a dirty hole damp walls black spot all over curtains dirty brown carpet with car mats strategically covering stains badly broken glass in front window that permanently rattled noise from street all night the beds ....I've never seen a bed arrangement like it....... I could go on but couldn't give the place any more airtime ... I would say that if you had a big smelly dog and needed to stay in an inn this would be the one as it has the ambiance of a dog kennel\",\n",
              " \"This hotel is a major dump. Some of the staff (not all -- there was one young man who was so helpful in finding us a taxi after telling us that Uber doesn't have enough cars there!) were so rude and disinterested, they should really find another job. The room had lights that were broken, some hanging out of the ceiling, one of the night tables had a handle pulled off so they simply drilling another hole to the right and put another in, the shower was built for people 4 ft. tall, and the floor of the bathtub was so slippery that my 25 year old niece fell and thought she broke her leg. It is a terrible hotel. Pay a little more and stay somewhere else.\",\n",
              " \"Not brilliant.....Grubby rooms, thread bare carpets on main stairs, smells of damp in the stairwellWardrobes knocked up by inept Carpenters, bathroom had mildew on bath surrounds, and the sink was sunk into what seemed to be an excuse of some old piece of kitchen work surface! Radiators were grubby & rusty.... Plaster falling out of RSJ's/ wall supports! Good attempt to hide that behind the curtains folks!!Advice for prospective guests, avoid room 221. Advice for owners, SORT IT OUT and put a bit of your profits back into your business All this for £390 for two nights room only! Welcome to the rip off Parliament Hotel\",\n",
              " \"Not impressed! Rude reception staff. Extremely rude manager. Myself & two friends stayed in Blooms as we attended a concert in Dublin. When we arrived back at hotel after our night out, it took the doorman about 15 minutes to answer the door! There wasn't anyone on the reception desk or answering the 'phone! We were three women, in a not-so-friendly part of town, who didn't appreciate being locked out! At that hour of the night, approximately 3am, it isn't safe anywhere! The breakfast was horrible and I had to ask 3 times for some ice for the OJ as it was just sitting out all morning. This hotel is a pure tourist trap and they should be ashamed to be changing people to stay there! NEVER AGAIN! I wrote a review on their Facebook page and they didn't reply- I noticed that they only replied to 'nice' comments- which there weren't many of!\",\n",
              " \"myself and my husband stayed here lastnight and it was honestly the worst hotel we've ever stayed in - and we have stayed in many hotels over the time. I never usually do reviews but feel the need to save someone else their money! It mentions there is a nightclub but they do not give away the extent of the noise disturbances caused. our room was literally vibrating it felt like we trying to sleep on the dancefloor. I complained to the guy on reception and he couldn't have cared less. I got the impression from the staff that they are just there to do the transaction, no attentiveness or presence about them at all. I'm all for casual hotels but when they lose sight of customer satisfaction then it just leaves you angry that you spent your money there instead of a nicer hotel that actually cares about your experience. for us it was a night away from our baby and crappy nights sleeps at home but instead we got an even crappier nights sleep! they should at least offer cheaper rates for the lower floor levels that are most affected... anyway to cut a long story short - go somewhere else!\",\n",
              " 'We stayed 2 nights - on arrival no offer of any help with the bags and it only got worse! Staff decidedly unhappy in most areas - breakfast was busy but again staff inattentive - the hotel itself was tired and clearly ready for redevelopment which was happening on almost every side of the hotel - avoid if possible as there are much better hotels nearby.',\n",
              " \"I do not know where to start, 3 day stay, booked a classic twin room. Upon arrival we were informed that we were upgraded to a deluxe twin room, visions of luxury came to mind..oh how i was wrong. No one offered to take our bags of which we had 3 very heavy ones which was not too nice after having to walk a while. The room looks like an elderly person's winter lodge, the room was dark and the colours felt heavy and outdated, there was marks and chips all over the walls which looked awful. The TV was probably the worst TV I've seen in the past ten years, it was not even digital and for a 'Deluxe' room that is disappointing. Furthermore, there was no fridge at all-nothing, so if you want a cold drink or a cup of tea or cereal you are going to have to pay more for this and the breakfast is 15 euro pp which is a lot if you want a bowl of rice crispies! The room was very warm, opening the window offered no relief and there is no air conditioning but I understand it is Dublin not Dubai. The lock on the bathroom door did not work so there was a few close calls...The whole establishment is not attractive and the photos are very misleading, far nicer hotels in Dublin!!\",\n",
              " \"I've never written a scathing review in my life but so disappointed with our stay feel I have to try and give a true reflection of this place. An over night stay booked as close to Ariva stadium, cost £200 without breakfast. On arrival the hotel was chock a block with football fans (not a problem was a nice atmosphere) but queuing to check in was painful....staff pleasant enough just not enough of them. A quick visit to room on 7th floor to drop bags off....very shocked by state of the room...I've honestly stayed in better Blackpool b&bs on hen nights! The walls were filthy...not dirty or in need of a spruce they were absolutely black :( skirting boards had big chunks of wood missing and again dirty beyond words. Furniture and curtains ok, drab and outdated but in ok condition. No main light only lamps that didn't work.When we returned in the evening hotel was still packed with footy fans and after trying to find a table for food we gave up and returned to room to order room service. A Blt and burger with chips 2 soft drinks 50 euros...I could live with that if it was nice...deliver on filthy trays and the glass was that dirty I had to use a mug to drink out of. Food order was wrong and as I have an allergy couldn't eat it....chunky chips not cooked so literally ate the burger out of both meals as the thought of trying to wait any longer wasn't worth it.Overnight kept waking up to the overpowering smell of body odour :( after checking several times it wasn't me! Quick investigation it was the mattress that stunk.Next morning had to be up early for taxi so needed to get up and out quick only to find the shower didn't work....had to stand in 2 inch of bath (no time to run a full bath) water and try and wash the smell of someone else's BO off. Toilet also flooded every time you used it.I've stayed in some holes in my time but never paid £200 for the privilege....taxi driver said it's due to be demolished soon.....got to say I can see why! Such a shame as you can tell it was probably a lovely place years ago but the lack of upkeep has taken its toll. I genuinely wouldn't stay there again if it was free although I can see why it stays open with the location. Must say I didn't have any problems with staff always pleasant just not enough of them. I wish I'd complained but as were running late when we arrived and early check out we just didn't have time. It's the only time I've ever been grateful of a delayed flight as it knocked 2 hours off the time in the hotel!\",\n",
              " 'Clearly awaiting its end when lease up. Room air con not working. Room smelt damp. Vent in bathroom not working so after shower couldnt see a thing. Woke at 7am by work on building site next door....no not 1980s Spain but an alleged 4 star in Dublin. Worst hotel i have stayed in for a long time. Still waiting for the fried eggs i ordered for breakfast! At least if they rebadged it as 2 star you could accept this esp if 2 star prices and not the 200 euro plus i paid. Never ever will i be in this place again.',\n",
              " \"When I stayed here in June with my friends and they're sisters we first got there and couldn't pay by card it had to be the one it was booked on which was very awkward we then stayed a night and cleaned the place up the next morning and a week later told there was 250 been takin of our account when the maximum fee was 200 they had no explanation for it or no proof either and it wasn't cheap to stay in for a night either!!!\",\n",
              " \"We needed a convenient hotel to stay in with airport shuttle for our early morning flight out of Dublin. This place is located in a sort of wasteland. We pulled up, the cab driver didn't even know this place was here & seemed afraid to just leave us here(!), there was a group of loud guys from the pub next door outside. Our room was typical Travelodge, but the view outside was a crappy apartment complex with loud people. We were hungry, but I didn't want to walk around the sketchy neighborhood! No way would I ever go here again!\",\n",
              " \"My niece had her communion here and we weren't happy at all with the food. I had chicken wings for starter which had barely any meat on them and got about 3 on the plate. The mains came out about 30 minutes after and I got penne pasta which was absolutely vile to say the least. The pasta was dry and hard and the sauce tasted like tinned tomatoes. It was basically day old pasta with a tin of tomatoes poured over it with no meat or anything. Disgusting\",\n",
              " \"The staff at the regency hotel were very friendly and helpful at all costsThere is a weird layout to the hotel that if you are on certain floors the lift does not go to you have to get off at one floor and take the stairs.... it was a nightmare. I got to my room and i asked to be switched, and the receptionist got me another room straight away.This room was not much better, there were cigarette butts on the window sill, questionable stains on the pillow and bed cover. The bath/shower was very dirty.Also the cleaners would come in even when you have a 'DO NOT DISTURB' sign on the door. The hotel has a nice pub downstairs which I have no complaints about.This hotel is a bus ride away from the center of Dublin and a 10 min drive from airport.I am certain that there are much better hotels around DublinI wont be coming here againNothing against the staff because they were all good, just not a fan of the hotel\",\n",
              " \"When you book a hotel it's usually to sleep. With the nightclub in this hotel literally shaking the walls of your room down you will not sleep a wink. It's 2.54 am as I write this and I feel as if I have just been scammed by the Dean. I'm a frequent traveler and hands down my worst experience at a hotel ever.\",\n",
              " 'I wish I had nothing bad to say about The Dean as is a gorgeous quirky hotel, with great deco. But, the absurd amount of noise that comes from the night club on the ground floor, is horrendous and a massive disruption for the night sleep, even if my night sleep only started at 02.00 am. Is ridiculous loud and not acceptable. It outweighs any other good feedback about this place. Is a shame and I actually feel sorry for the staff, as they do a great job, but at the end, the noise from the night club, kills any effort and positive feedback.',\n",
              " \"I was excited on arrival by the look and feel of this hotel, but by the time I left the following day I was utterly disgusted by their utter disregard for their guests' comfort and satisfaction. I thin the following response to my agent's complaint letter will tell you all you need to know about why you should choose ANY other hotel in Dublin. So disappointed - Goodness only knows just how appalling it might of been, had I been a leisure traveller!Management Response:I'm sorry your client had a noise affected stay with us. Thanks for taking the time to flag this with us. We do have big issues with noise on Harcourt Street. We have some rooms that are quiet-er but nothing we'd consider silent by a long stretch. Harcourt street is the singlemost busiest area in Dublin/Ireland for nightlife in general, we're completely surrounded by night clubs/late venues. Although there is little we can do to control this, we try to assign the quiet-est rooms to corporate guests, longer stays, pre-requests etc. to minimize the impact on our guests. I'm sorry if this wasn't communicated on arrival, I will follow up internally to prevent the next guest from being in the same position.  As recently as this week we have undertaken additional construction work/acoustic insulation at our expense to isolate us from our neighbours. We're working hard behind the scenes as a management to lessen the impact of noise on our guests comfort.  In relation to the lights, coffee machine and basin - we greatly appreciate feedback and I have personally followed up with our housekeeping and maintenance teams to ensure it does not happen for another guest.  As a gesture, let me look after your client for the following should you ever be in a position to return:\",\n",
              " \"AWFUL. Don't stay here. Elevator broken. Very poor room service. Computer issues. Over priced. When we checked out the card to open gate in parking did not work. No one there to help. No phone to call to get assistance. Very big hassle. Stay at the Maldron. Closer to the sirport. A better value and no problems.\",\n",
              " \"Literally the worst hotel Ive ever stayed at. Checked in and get to our room it's small and stuffy even with the window open on a very warm day. Then the night comes and it is loud. Not even from the train/ bus station there are what sounds like a billion drunk people on the streets below screaming like a bunch of obnoxious a-holes. We even closed the window and had ear plugs in and could still hear them. Don't know what it was from as there is no pub that close that I was aware of. Do not stay here if you want any sleep.\",\n",
              " \"My friend and I stayed in this hotel a couple of weeks ago. I booked thorough booking.com 24 hours before we stayed. The hotel advertises no booking fee on their website but apparently according to one staff member in the 'fine' print it states that the hotel will put a holding fee on your booking but your card will not be charged. When I checked out I paid for our stay. That was two weeks ago and the holding fee is still on my account and there is essentially 300 euro in my account I cannot access. I just wanted to let future guests know as this has been a serious inconvenience for me this last two weeks.Hotel was fine, bed was fine, bathroom.\",\n",
              " 'I specifically requested a quiet room when making booking & the possibility of a newly refurbished room. Had a bad feeling when there was a snigger about the possibility of a newly refurbished as we were getting a mid summer madness deal but was guaranteed a quiet room which was crucial for our stay! Confirmed upon arrival \"yes, we will have a quiet room\". Lying awake the last half hour due to a delivery van with carpet clean outside our wide. We awoke often throughout night with street noise. Was told parking was 10 minutes walk but never told it was Clerys Carpark & drove around in circles to find it. Have to spend another night here, very unhappy, never again. On first floor, restless sleep with important day ahead, yes it is what it says; \" mid summer madness\".',\n",
              " 'The hotel is attached to a disco bar. Loud music until 3AM! The nights were warm and there was no ventilation/AC. The staff not the typical Irish hospitality. It is centrally located. Definitely not worth staying. Worst hotel of our month long trip.',\n",
              " 'Outdated. No air conditioning. Tiny, dirty rooms. Soiled bed linens. No screens in windows. Loud music every night until 4 am. Rude staff. Overcharged on bill upon departure. All around huge disappointment. Only saving grace is location. Not worth the money.',\n",
              " 'I recently was at Fleet Hotel and was very disappointed with the accommodations.When we arrived we were asked if we wanted the breakfast the next morning for 9 Euros a piece. I asked if I needed to pay for it that night and the desk clerk said no but they would put our names done. My daughter and I got an ally room where the noisy from outside was ongoing. ( we tried to close the windows to buffer the noise but there was no Air so the room became extremely stuffy. The inside noise was just as bad if not worse. the walls were paper thin and every time a door open and closed it vibrated throughout the room.The next morning when we went downstairs for the breakfast we told the hostess what room we were in and I proceeded to get my coffee and plate of breakfast food (by the way the canteen was extremely noisy as well), the hostess comes over and states that we had not ordered the breakfast. At that point I had had it. I went to the front and told them that I would be checking out of the hotel a day early due to the lack of sleep due to the noise that my daughter and I dealt with the night before as well as the embarrassment in the canteen when we thought we had lined up the breakfast from the night before. They refused to credit our account, Told us what did we expect from the Temple Bar area which is in the City Center. I explained that the noise was NOT just from the outdoor area but from the HALL as well. They refused to compensate us in any way!!!!!',\n",
              " 'We stayed as a couple in the hotel based on reviews. However we paid over 200 euros per night for a tired room. On arrival the reception area was very impressive. However on check in we were directed up a corridor through a security door into what seemed to be a back hotel. The room we were given was in a back corridor with tired facilities that overlooked another part of a hotel. Very disappointing especially considering the price we paid for 2 nights.',\n",
              " \"Arriving at North Star hotel in my car I soon realised that the nearest parking was 1 mile away where I had to drag 3 bags from. The reception weren't that friendly and advised me there was no lift to the 2nd floor with my bags. I went in the summer (25 degree heat), no air con in the room ( although a 4 star) and had to suffice to opening the windows which over looked a busy main road and very noisy, so no sleep was had during the night I stayed. I was meant to stay 2 nights and checked out after 1.I stay at a least 2 hotels a week and normally 4 star. Worst 4 star hotel I have stayed in for a while and not impressed by the cost nor the location. AVOID!The only positive was the restaurant in the hotel who were excellent and great food.\",\n",
              " \"I booked this hotel recently for a trip with my two teenage children. It is in a great location however I had a number of problems with my stay which I don't think the hotel staff seemed to give enough attention to. Firstly when I arrived, I was told that I had only booked a double room. I explained that I had double checked my email and it says triple room and I paid more, to which the receptionist pointed to his form and said no it was a double. Clearly this was not my fault or the receptionists fault but his response was pointless. There is obviously an issue between the booking site and the hotel details. He did find me a room with a double and single bed and I was grateful as we were all very exhausted from an active day.When I got to the room and ready for bed, we discovered a problem with the electrics, only one plug in the room worked. As it was late I decided to get some sleep and report in the morning.I reported the problem to the receptionist on the morning and he advised he would get someone to look at it.We arrived back to the hotel late that evening and I asked the reception staff if he was aware if the plugs had been fixed in my room. He didn't know anything about it and I hoped this was a good sign. Unfortunately when we got to the room there was no change. Again as it was late we just wanted to get to sleep.I reported the problem to the receptionist in the morning and when she checked the system she said the fault had been noted but there were no maintenance staff available on a Sunday to fix it. I had made the most of a frustrating situation and moved furniture to be able to use the hairdryer in the room and asked reception staff to charge phones. while I accept these difficulties can arise I feel the staff in this situation need to learn how to effectively communicate. I should have been told there were no maintenance staff, I could have been offered an alternative room and I should have had a phone call or message left for me on my return. In addition the standard of finish and cleanliness of this room was poor, it was very dated and grubby. I feel that due to the initial booking conflicts I was put in a room that probably was not properly prepared for use. I won't be back as there are too many other great hotels and guesthouses in Dublin.\",\n",
              " 'This Hotel has a great location and should excel.The bar food is average and the service very slow. It also is expensive.Well intentioned staff need better customer focus.This is my first experience with half a cup of coffee for the price of a full one.No coffee top ups here.A lot of work to do.There is a reason why three sets of tourists walked out - Service needs serious improvement in this bar. There are much better options in Dublin.',\n",
              " \"Very tired looking hotel which desperately needs some love. First room offered was in the basement and was really noisy... Moved to the top and was still really noisey due to the seedy all night clubs over the road. Room walls were heavily stained and the room had an unpleasant musty odour. Like most hotels in Dublin it is overpriced but if you're going to pay over the odds you may as well pay a tenner more and go somewhere nice.\",\n",
              " 'Being someone who travels extensively for work I can say I\\'ve experience my fair share of dump hotels. This place however tops them by a good way. It\\'s pure nasty so where do I begin? I\\'ll start with minor grievance of only 1 towel in a 2 bed room. I\\'ve had 4 towels in a no star hotel in Lobito. The front desk staff are not up to their job and are clueless. Could not offer alternative room when I complained at the rooms allocated. Small shoebox rooms with old and substandard furniture. Our daughters bathroom is smaller than our downstairs guest washroom so it\\'s a little on the snug side. Our rooms do have a fantastic view that is if you are an avid trainspotters and want to experience the closeness and rattle of speeding locomotives at all hours. \"Ah this city center hotel this normal and what you get\" was the sympathetic front desk reply. The all day restaurant is all day if you exclude a large proportion of the day. The photos on the website and booking sites must have been extensively airbrushed or outright doctored as even with lights off and a skin full of Guinness would I be would be hard pushed to say the room is the one shown online. To top it all they claim to have been awarded the hotel of 2016. In what way was that even remotely possible? The only way I can get my head around that if if the catagory was \"The best hotel call Beresford on Store street as judged by morons\". A disgusting dump that could and should have a more detailed review however, I feel aggrieved at wasting my money on this place I didn\\'t want to waste any time on it but dealt compelled to try and save any poor traveler making the same horrendous mistake I made.',\n",
              " 'My mother and I stayed at your hotel last week and overall it was a dreadful experience.Firstly, it was described on Booking.com as a “quiet haven”. It is not. For a hotel surrounded by car rental depots and other commercial and industrial premises, it is totally misleading to describe it as a quiet haven.When we arrived tired and hungry at 9:30pm, later than planned due to travel delays, we were told the restaurant was closing, even though we had called earlier to check we could still get food until 10pm. The receptionist (who greeted us in a rather cold and fed-up manner) called the wait staff and ordered them to keep the kitchen open, so we rushed through to the restaurant. The waiter to be fair was sweet and smiley, but he did start the conversation by saying ...”oh the chef is gonna be pissed off, grab a table and order quickly!”. The food was not good. We had booked a twin room that, according to the photos on Booking.com had two small double beds. On arrival we were told by the receptionist that we had been upgraded to a suite. However, the “suite” was a room on the ground floor, at the front of the hotel, next to the busy car park. It was a room with one small double bed a tiny single bed. It was noisy and depressing. My mother was really quite upset as this was not at all what she expected when booking. I went back to reception to query the room, and before I had even finished my sentence I was interrupted by another grumpy male receptionist to be told they were fully booked. This was not an answer to the question I was trying to ask, but it did make it a little clearer as to why we had been “upgraded”. I have worked in the hotel industry as an assistant manager and I know how these things work, so it was not a kind gesture but actually a shuffle of rooms to accommodate all the guests. In short, the two receptionists were very unhelpful, cold, and dismissive. We went to bed feeling really deflated.The next day we tried to look on the bright side, we had a nice day out in Dublin but had already decided that this was not the hotel we had thought we’d booked, and certainly not the quiet haven we expected. As a consequence, on Thursday morning (we arrived Tuesday night), we changed our flights to fly home 2 days early. The hotel gave us a receipt for all 4 nights even though we had only stayed two. They said that this was because we had paid up front through Booking.com. They tried to charge us for all 4 breakfasts (we had only had two), until we asked them to please refund us the £40. The staff in short were awful, and since returning home we have tried to get a little compensation for the 2 nights we were not there for, but no response. I highly advise steering clear of this so called Hotel.',\n",
              " 'One to avoid! - and I don\\'t say that lightly!Stayed here as it was adjacent to The Iveagh Gardens and a Dropkick Murphy\\'s gig we were attending with good friends. On the face of it a half decent hotel but let down very badly once you scratch the surface - No Aircon!! The rooms are melting at best but if you manage to negotiate the safety clasp on the window you can get some air into the room ! But then the 75 million seagulls keep you awake from the crack of dawn! Which in July is obviously early! Just as the brain is beginning to accept the squeaking seagulls the hotel offers a new alarm call! 0800 - tap tap tap on the door ..... so I open the door to a sheepish Eastern European girl who is already walking away down the corridor ... \"sorry I just checking rooms\" Forgive me but that\\'s cheap cheap cheap!! Check out is actually noon! So why are you waking us up!! Never ever again - disgraceful city centre hotel !!!',\n",
              " \"We stayed at The Clarence on the tail end of a week-long trip to Ireland and were very excited to stay here. Big mistake. It was a total dump. We had two rooms, and both were filthy. The bathrooms floors were sticky and spotted, the shower curtain liners were black with mildew, one room had a horrible and persistent smell, one sink did not drain at all, the vents were covered in dust, there were random smears of Gd knows what on the shower walls, one room's windows did not open at all and there was no AC or ventilation. Gross and loud, as our rooms overlooked a beer garden next door. The lobby was likewise nasty, with a sticky counter and floors. I am not sure how other guests gave good reviews, this hotel was totally sub-par, especially for the price.\",\n",
              " 'Was charged debit card and reversed with a loss of $24 to me. Had told receptionist that I wanted to lay cash which I did for more than 10 hotels in this trip. She asked for €500 deposit plus my credit card. Now management is denying responsibility and defended itself by saying I should have read the fine print in my bill. Sucks !!!!',\n",
              " 'what a bad hotel!! i don’t know where to begin. the rooms are smaller than small. there is no room to put your clothes, lights are not working, it is loud 24h,so if you would like to sleep just for an hour, no way. the windows do not block the noise at all. there is no air in the rooms after 2 hours with 2 people in the room you will snap for air. at night, when we wanted to go to sleep, we had to find out that both beds in our room had big stains on the matrass cover it looked like blood on. it was disgusting!!! like all of the hotel! the manager, naomi, is very rude and plays the hard business woman. not very nice when you pay over 200e for one night, for a room which would be ok for e70. very, very bad experience. never ever again not even if they would pay my to stay there. the only good thing about the hotel, they gave us a discount of 75% for the one night for the bloody sheets. we left after one night and found us a very nice place for the same price. horrible hotel in a wonderful city.',\n",
              " \"One star for the location. Thats it. Small very hot room with windows that open only a crack. Stifling air quality. Actually you can smell some kind of fume when you walk in the room. 2 fans going and i can barely breath. Very stuffy. I had to remove the synthetic comforter and sleep only with the cover was so frigging hot. Tossed and turn all night. Barely slept. Whats worse there is some sort of bottle recycling plant crunching bottles so you have to close the windows to get some sleep. Not much air coming thru the crack anyway. Absurd!!! The fridge is even warm. It smells like something died in there. Not kidding.You could do so much better then this place for less money. I stayed at a hotel on Abbey street right across the hapenny bridge, twice the size and half the price with windows that opened!!! Reception has air conditioning. Its almost a cruel sick joke.I'm checking into an Airbnb tomorrow. Can't wait to gtfoh!!\",\n",
              " \"My travel tour agency recommended this place. I have since told them to stop. I am on my second and final stay of 2 nights. Room came with air conditioning but it was broken. Mentioned it 3 times and was assured it would be checked out. I still have no air conditioning. I have sleep apnea and cooler air makes my breathing easier. I did request a fan and after second request it finally showed up. Could not sleep with windows open as I was next to fire house and road noise. The first nights dinner took 2 hours to show up and my wife's lamb was cold. My sons fries were old and stale. Not acceptable. One positive is the morning breakfast buffet. It has a great selection of foods. They even offer gluten free bread. I found staff to be dismissive with discussions about food and rooms. I have a large family and will tell them not to stay here on their next visit to Ireland. I am unsure if problems stem from management or owners who do not care about maintenance and upkeep. Avoid it like the plague\",\n",
              " 'The fire alarm went off repeatedly early in the morning but the hotel made no attempt to let people know these were false alarms. This is absolutely unacceptable. Otherwise the staff were very helpful and kind- apparently students, and understaffed. The fault lies with the owners/management.',\n",
              " \"My mother in law booked this hotel for a family trip, I would never have booked this hotel in a million years on the face value. However I had no choice but to stay, the bare minimum I require from a hotel is its clean... This hotel was filthy, that's enough to not to ever book it - please see the pictures. Quick points *There was no AC * The taps didn't work *The shower leaded and was wrapped up with tape *Its noisey *The view from the windows in our room was laughable, lovely roof covered in AC units that don't work! *Bathroom covered in mould *Stained sheets - I could go on!Do not be fooled into thinking the location will make up for negatives of this hotel, there are other hotels - book those instead! That's the hotel, the dinner & show... The table layabouts was rubbish, the food was in-edible, IT WAS INSANELY HOT! The service was terrible! It was so loud, you could speak to someone next to you. I watched another couple leave midway through their starter it was that bad. It's over priced, and NOT worth it!Please I implore you NOT to book this hotel *do not waste your money.\",\n",
              " 'So far not impressed! Poor service in bar .... only three tables of three and two bartenders and a manager behind the bar! Room has mould in the shower.... door in hallway squeaks sooo bad anyone have some WD-40? Definitely not a four star.',\n",
              " \"Sadly this trip was disappointing due to his hotel. Rest of Dublin great but avoid his place. Sewage coloured water in bath....problem unresolved even though changed rooms and only comp offered was a glass of wine. Couldn't drink or use water in my room and had to wash using bottled water like on camp....duty manager lady pleasant but ineffective in sorting base issue. Have never complained before but added to false alarm at 3 this morning too, no breakfasts for that price....not value for money....don't want single people....rip off\",\n",
              " 'Currently in room on 5th floor at 2.02 am with the incessant thud of drum and base. Torn duvet cover on bed. Still at least I have no fear of actually being able to sleep! Book a different hotel if you actually expect to sleep in your room.',\n",
              " \"Just left The Burlington and felt I had to post this. Beautiful hotel and can't really fault it for comfort and appearance. However, we just spent the night in room 788 and never slept a wink. A domestic argument in room 786 until the wee small hours put paid to that. My partner was going to phone police. It was that bad. Paper thin walls didn't help and we heard everything. There was wall punching, door slamming, roaring, shouting, swearing, what appeared to be slapping and lots of crying. It was nothing short of a disgrace. The management had already said the hotel was fully booked so no point I asking to change rooms. It was 5am before we got any sleep and only then, because the female left. I accept that this is no fault of the hotels but I paid for a bed to sleep and couldn't. It wasn't cheap either. I reported to the girl on check out who seemed wholly disinterested. Always liked the hotel but doubt , I'll stay again. Going home completely wrecked after what was to be a comfortable hotel stay\",\n",
              " 'My sister in law contacted the hotel on Tuesday 18th July to inform the hotel that she would no longer be able to attend due to unforeseen circumstances. She was advised that she would not be able to amend the date or be issued with a refund. As she was under the impression that the booking had been fully paid for she offered me the room as she did not want to let the reservation go to waste. I knew I would be travelling late and called the hotel to query the latest check in time and when the residents bar closed. I was advised that 12 pm was the latest check in time and 11 pm was the closing time for the residents bar. This was misinformation as my husband rang straight after and was advised that you could check in at any time and the residents bar in fact closed at a much later time. We explained the situation over the phone and was told to come on ahead. When we arrived we experienced the most unpleasant check in I have ever experienced. We were met by an extremely rude member of staff, who really should not be dealing with the public in his mannor. Judging by his dress code and age I would assume quite a senior member of staff. As the first point of contact to the hotel please retrain this man in customer service. When my husband was trying to explain the situation he kept rudely interrupting saying ‘you do not understand sir’ and at one point during this conversation my husband was trying to resolve the situation by simply stating the booking reference number and he assumbed this was a six digit pin and he said he did not want to see information of this type aand my husband also explained that we had came here on the understanding that the room had been paid for fully. In response, the staff member seemed to become quite irritated with us so my husband went to the car to get his phone to phone the person who had made the booking. This person was willing to confirm her card details over the phone and pay for the room as she thought the room had already been paid for anyway as if we had not turned up to take the room the money would have been taken off the very same card infact. We were cautious about paying for the room when asked in case this meant that the room had been paid for twice. The member of staff refused to speak to the person who had made the booking over the phone and stated that he needed the card to be physically in my husbands hand there and then in order for the payment to be taken. Due to the treatment we received from this staff member if it hadn’t have been so late at night we would have turned around and went home. The staff member showed us a complete lack of respect and we were left feeling disappointed. Very poor customer service for a hotel of this star rating. At check-in time we were not informed of breakfast serving times or locations. We assumed that are door would be knocked 10 minutes prior to breakfast serving time as this is the procedure used in many hotel that we have stayed in over the years. At this point my husband mad the full payment for the room in order to avoid further embarrassment. It is key to note although we were in the position we were able to pay for this reservation at such short notice many couples may not have been able to. Next we were issued with our hotel room key and handed over to another staff member who brought us to the car park and brought us to our room . This staff member was extremely helpful and courteous. After leaving our luggage in our room we headed down to the main bar area for a few relaxing drinks after the whole ordeal. We were served our drinks by a Barman by an extremely friendly bar man but unfortunately the pints that he pulled had absolutely no head on them and were flat. I could clearly see this man had not received proper training in how to pull a pint correctly .My husband had to change his drink over to wine as a result of the standard of the pint served , and my husband would not usually enjoy this as his main drink in the bar. When we arrived up to our room afterwards we noticed our room was very clean although the décor was quite outdated and the bathroom looked like it was from the 1960s. To conclude the are much better hotels based in the Dublin area with better locations, service as well as value for money. I would not advise anyone to use their hard-earned money staying here if you wish to feel valued. The old beauty and charm of the hotel has gone , that my mother and father talked about as they stayed here for years. I would have hoped the standards would have raised instead of dropped.',\n",
              " \"Just terrible stay. Never wrote a review before but feel the room was so bad people should know. No air conditioning in 25 degree heat, needed to leave windows open so sea gulls and other birds squawking 24/7 sounded like something out of jurassic park. 22 inch TV about 20 years old with patchy sevice. Couldn't use the shower as it was broken. Honestly worst hotel room I have ever been in. Can't say anything about staff as we just went out as soon as possible. Oh and €25 for parking a day. DON'T STAY HERE.\",\n",
              " \"We paid €450 for a room for the U2 concert, on arrival we were told that our room had been upgraded to a suite. When we arrived at the room it was quite small, the only thing to suggest it is a suite was a larger bathroom, otherwise the room was dark, really hot and stuffy. We put the air con on when we left the room and when we came back it was warm. Sleeping was unbearable and we couldn't contact any of the hotel services. In fact when we came back all we could see was security at the front lobby and nobody at reception.When we asked to speak to a manager the next morning he apologised about the air con and was aware they had a problem with it in the hotel. No gestures were offered and guess what...€450 does not include breakfast, it is disappointing to see these hotels totally rob people when an 'event' is on.I will never be back here again, the Shelbourne is the place to stay!!\",\n",
              " 'My exact specification was a quiet, safe room, however I received the opposite twice and a promise of rectifying it by the manager (Garrett) but when I later asked he completely \"forgot\" the conversation. I\\'d recommend anywhere else',\n",
              " \"The hotel is in a busy part of town but there is no noise insulation so you won't get a full nights sleep. Very expensive and poor choice in restaurants. Bath will not fill more than 3 inches and there are no seats in room to relax on.\",\n",
              " \"The temperature outside is 14c and there is a tiny window in a room for four. If one person takes a shower the room is too warm. If two take a shower it's a sauna for the rest of the night. I have encounter the little window phenomenon throughout Ireland but his huge monster of a hotel is hot throughout. Sleeping happens after he room has cooled down - around 3am. Stick to airbnb. Most homes and flats have actual portals to the outside air.\",\n",
              " 'I cannot in good faith recommend this hotel for anyone wanting to stay in the area. Our room was dirty, the floor was not vacuumed so there was hair all over the floor. There were stains on the wall. Our bathroom was dirty: moldy and a moldy shower curtain.',\n",
              " \"First thought as I walked in, was is this an old people's home!?Not up to date quite shabby, beds comfortable, majority of staff were quite rude!! Not worth €600 euros for two nights per family! Breakfast was cold and oily.Not an amazing hotel. Wouldn't stay again definitely not a four star! Needs re checking!\"]"
            ]
          },
          "metadata": {
            "tags": []
          },
          "execution_count": 32
        }
      ]
    },
    {
      "cell_type": "code",
      "metadata": {
        "id": "oIK44aOz3mXz",
        "colab_type": "code",
        "outputId": "a56a1e62-1e18-4e6d-a15f-9a28d67133f9",
        "colab": {}
      },
      "source": [
        "len(list(reviewsDict[\"1.0\"][0]))"
      ],
      "execution_count": 0,
      "outputs": [
        {
          "output_type": "execute_result",
          "data": {
            "text/plain": [
              "112"
            ]
          },
          "metadata": {
            "tags": []
          },
          "execution_count": 33
        }
      ]
    },
    {
      "cell_type": "code",
      "metadata": {
        "id": "Mft5tu9O3mX4",
        "colab_type": "code",
        "outputId": "1f9c114e-e4ce-4cd4-98a2-043a7f356646",
        "colab": {}
      },
      "source": [
        "list(reviewsDict[\"1.0\"][0])[0]"
      ],
      "execution_count": 0,
      "outputs": [
        {
          "output_type": "execute_result",
          "data": {
            "text/plain": [
              "'Boy did we learn the hard way!! Do your research before booking!! The only redeeming feature of this hotel is the location close to the city. If I could grade this hotel with a \"0.5\" or even a \"0\" I would. This is a 2 star hotel with a popular nightclub on site. Warned about noise after check in. Even found the hotel provided ear plugs - which didn\\'t work !! We were provided with twin beds in a claustrophobic hotbox! One small window which had to be closed at night to minimise the noise from the nightclub. The ensuite was small and had a broken toilet lid and seat. In the room there was outdated information regarding meals. In reality we found - Breakfast available everyday. Lunch only Mon - Friday. No evening meals for guests on weekends. Bar on a Saturday not open until 11.00pm for the nightclub. No room service. No obvious facilities for the disabled.The nightclub proved to be a nightmare for us with the amount of noise generated and also the noise generated by the staff cleaning up and disposing of glass bottles at around 5 am. Hotel does not provide parking and after being directed to a car park ( 5 - 10 minutes walk away from the hotel) that supposedly gave hotel guests a discounted rate we found that we were charged the normal rate. Wifi poor inconsistent unreliable. The staff came across as indifferent and brusque towards hotel guests.In summary grossly overpriced accommodation for the poor accommodation and service it provides, We do NOT recommended this hotel.'"
            ]
          },
          "metadata": {
            "tags": []
          },
          "execution_count": 34
        }
      ]
    },
    {
      "cell_type": "code",
      "metadata": {
        "id": "7eI93hzA3mX8",
        "colab_type": "code",
        "colab": {}
      },
      "source": [
        "# strong variation."
      ],
      "execution_count": 0,
      "outputs": []
    },
    {
      "cell_type": "code",
      "metadata": {
        "id": "toh1tpcm3mYA",
        "colab_type": "code",
        "outputId": "0283dff9-f2b9-43d3-cce6-8e8012fffab3",
        "colab": {}
      },
      "source": [
        "hotelsStatDF[:3]"
      ],
      "execution_count": 0,
      "outputs": [
        {
          "output_type": "execute_result",
          "data": {
            "text/html": [
              "<div>\n",
              "<style>\n",
              "    .dataframe thead tr:only-child th {\n",
              "        text-align: right;\n",
              "    }\n",
              "\n",
              "    .dataframe thead th {\n",
              "        text-align: left;\n",
              "    }\n",
              "\n",
              "    .dataframe tbody tr th {\n",
              "        vertical-align: top;\n",
              "    }\n",
              "</style>\n",
              "<table border=\"1\" class=\"dataframe\">\n",
              "  <thead>\n",
              "    <tr style=\"text-align: right;\">\n",
              "      <th></th>\n",
              "      <th>hotelName</th>\n",
              "      <th>reviewCount</th>\n",
              "      <th>earliestDate</th>\n",
              "      <th>latestDate</th>\n",
              "    </tr>\n",
              "  </thead>\n",
              "  <tbody>\n",
              "    <tr>\n",
              "      <th>155</th>\n",
              "      <td>Hotel Arts Barcelona</td>\n",
              "      <td>75</td>\n",
              "      <td>2017-07-11</td>\n",
              "      <td>2017-08-09</td>\n",
              "    </tr>\n",
              "    <tr>\n",
              "      <th>130</th>\n",
              "      <td>Hilton Diagonal Mar Barcelona</td>\n",
              "      <td>72</td>\n",
              "      <td>2017-07-11</td>\n",
              "      <td>2017-08-12</td>\n",
              "    </tr>\n",
              "    <tr>\n",
              "      <th>106</th>\n",
              "      <td>Grand Hotel Central</td>\n",
              "      <td>72</td>\n",
              "      <td>2017-07-05</td>\n",
              "      <td>2017-08-12</td>\n",
              "    </tr>\n",
              "  </tbody>\n",
              "</table>\n",
              "</div>"
            ],
            "text/plain": [
              "                           hotelName  reviewCount earliestDate latestDate\n",
              "155            Hotel Arts Barcelona            75   2017-07-11 2017-08-09\n",
              "130   Hilton Diagonal Mar Barcelona            72   2017-07-11 2017-08-12\n",
              "106             Grand Hotel Central            72   2017-07-05 2017-08-12"
            ]
          },
          "metadata": {
            "tags": []
          },
          "execution_count": 135
        }
      ]
    },
    {
      "cell_type": "code",
      "metadata": {
        "id": "_2-CY8NZ3mYE",
        "colab_type": "code",
        "outputId": "57e83b9a-fb92-487a-a531-56984f4b26b2",
        "colab": {}
      },
      "source": [
        "BarcelonaTripDF[:3]"
      ],
      "execution_count": 0,
      "outputs": [
        {
          "output_type": "execute_result",
          "data": {
            "text/html": [
              "<div>\n",
              "<style>\n",
              "    .dataframe thead tr:only-child th {\n",
              "        text-align: right;\n",
              "    }\n",
              "\n",
              "    .dataframe thead th {\n",
              "        text-align: left;\n",
              "    }\n",
              "\n",
              "    .dataframe tbody tr th {\n",
              "        vertical-align: top;\n",
              "    }\n",
              "</style>\n",
              "<table border=\"1\" class=\"dataframe\">\n",
              "  <thead>\n",
              "    <tr style=\"text-align: right;\">\n",
              "      <th></th>\n",
              "      <th>_id</th>\n",
              "      <th>date</th>\n",
              "      <th>hotelLocation</th>\n",
              "      <th>hotelName</th>\n",
              "      <th>hotelStars</th>\n",
              "      <th>hotelUrl</th>\n",
              "      <th>review</th>\n",
              "      <th>score</th>\n",
              "      <th>title</th>\n",
              "      <th>url</th>\n",
              "      <th>userId</th>\n",
              "      <th>wordCount</th>\n",
              "    </tr>\n",
              "  </thead>\n",
              "  <tbody>\n",
              "    <tr>\n",
              "      <th>0</th>\n",
              "      <td>5987192c9b1f26681686008e</td>\n",
              "      <td>July 31, 2017</td>\n",
              "      <td>Carrer Elisabets 11, 08001 Barcelona, Spain</td>\n",
              "      <td>Casa Camper Hotel Barcelona</td>\n",
              "      <td>4.0</td>\n",
              "      <td>https://www.tripadvisor.com/Hotel_Review-g1874...</td>\n",
              "      <td>It truly felt like coming home when we came th...</td>\n",
              "      <td>5.0</td>\n",
              "      <td>SO SO Happy to Be BACK!</td>\n",
              "      <td>https://www.tripadvisor.com/ShowUserReviews-g1...</td>\n",
              "      <td>Lili1012</td>\n",
              "      <td>221</td>\n",
              "    </tr>\n",
              "    <tr>\n",
              "      <th>1</th>\n",
              "      <td>5987192e9b1f26681686008f</td>\n",
              "      <td>July 26, 2017</td>\n",
              "      <td>Carrer Elisabets 11, 08001 Barcelona, Spain</td>\n",
              "      <td>Casa Camper Hotel Barcelona</td>\n",
              "      <td>4.0</td>\n",
              "      <td>https://www.tripadvisor.com/Hotel_Review-g1874...</td>\n",
              "      <td>Perfect place to stay in Barcelona.. We spent ...</td>\n",
              "      <td>5.0</td>\n",
              "      <td>Perfect</td>\n",
              "      <td>https://www.tripadvisor.com/ShowUserReviews-g1...</td>\n",
              "      <td>AimamKaur</td>\n",
              "      <td>35</td>\n",
              "    </tr>\n",
              "    <tr>\n",
              "      <th>2</th>\n",
              "      <td>598719309b1f266816860090</td>\n",
              "      <td>July 26, 2017</td>\n",
              "      <td>Carrer Elisabets 11, 08001 Barcelona, Spain</td>\n",
              "      <td>Casa Camper Hotel Barcelona</td>\n",
              "      <td>4.0</td>\n",
              "      <td>https://www.tripadvisor.com/Hotel_Review-g1874...</td>\n",
              "      <td>This hotel is ideally placed within reasonable...</td>\n",
              "      <td>5.0</td>\n",
              "      <td>Nothing was too much trouble</td>\n",
              "      <td>https://www.tripadvisor.com/ShowUserReviews-g1...</td>\n",
              "      <td>Tisketsmum</td>\n",
              "      <td>103</td>\n",
              "    </tr>\n",
              "  </tbody>\n",
              "</table>\n",
              "</div>"
            ],
            "text/plain": [
              "                        _id           date  \\\n",
              "0  5987192c9b1f26681686008e  July 31, 2017   \n",
              "1  5987192e9b1f26681686008f  July 26, 2017   \n",
              "2  598719309b1f266816860090  July 26, 2017   \n",
              "\n",
              "                                 hotelLocation                      hotelName  \\\n",
              "0  Carrer Elisabets 11, 08001 Barcelona, Spain   Casa Camper Hotel Barcelona    \n",
              "1  Carrer Elisabets 11, 08001 Barcelona, Spain   Casa Camper Hotel Barcelona    \n",
              "2  Carrer Elisabets 11, 08001 Barcelona, Spain   Casa Camper Hotel Barcelona    \n",
              "\n",
              "   hotelStars                                           hotelUrl  \\\n",
              "0         4.0  https://www.tripadvisor.com/Hotel_Review-g1874...   \n",
              "1         4.0  https://www.tripadvisor.com/Hotel_Review-g1874...   \n",
              "2         4.0  https://www.tripadvisor.com/Hotel_Review-g1874...   \n",
              "\n",
              "                                              review  score  \\\n",
              "0  It truly felt like coming home when we came th...    5.0   \n",
              "1  Perfect place to stay in Barcelona.. We spent ...    5.0   \n",
              "2  This hotel is ideally placed within reasonable...    5.0   \n",
              "\n",
              "                          title  \\\n",
              "0       SO SO Happy to Be BACK!   \n",
              "1                       Perfect   \n",
              "2  Nothing was too much trouble   \n",
              "\n",
              "                                                 url      userId  wordCount  \n",
              "0  https://www.tripadvisor.com/ShowUserReviews-g1...    Lili1012        221  \n",
              "1  https://www.tripadvisor.com/ShowUserReviews-g1...   AimamKaur         35  \n",
              "2  https://www.tripadvisor.com/ShowUserReviews-g1...  Tisketsmum        103  "
            ]
          },
          "metadata": {
            "tags": []
          },
          "execution_count": 133
        }
      ]
    },
    {
      "cell_type": "code",
      "metadata": {
        "id": "mRz4hjRT3mYL",
        "colab_type": "code",
        "outputId": "37c273c2-1bd7-4285-e182-17575df04119",
        "colab": {}
      },
      "source": [
        ""
      ],
      "execution_count": 0,
      "outputs": [
        {
          "output_type": "stream",
          "text": [
            "/home/yi/anaconda3/lib/python3.5/site-packages/matplotlib/figure.py:403: UserWarning: matplotlib is currently using a non-GUI backend, so cannot show the figure\n",
            "  \"matplotlib is currently using a non-GUI backend, \"\n"
          ],
          "name": "stderr"
        },
        {
          "output_type": "display_data",
          "data": {
            "image/png": "[encoded data removed]",
            "text/plain": [
              "<matplotlib.figure.Figure at 0x7f1076ca5c18>"
            ]
          },
          "metadata": {
            "tags": []
          }
        }
      ]
    },
    {
      "cell_type": "code",
      "metadata": {
        "id": "35sRs_y_3mYR",
        "colab_type": "code",
        "outputId": "50d0a52f-37b1-49c9-922a-b4a177430d71",
        "colab": {}
      },
      "source": [
        ""
      ],
      "execution_count": 0,
      "outputs": [
        {
          "output_type": "stream",
          "text": [
            "/home/yi/anaconda3/lib/python3.5/site-packages/matplotlib/figure.py:403: UserWarning: matplotlib is currently using a non-GUI backend, so cannot show the figure\n",
            "  \"matplotlib is currently using a non-GUI backend, \"\n"
          ],
          "name": "stderr"
        },
        {
          "output_type": "display_data",
          "data": {
            "image/png": "[encoded data removed]",
            "text/plain": [
              "<matplotlib.figure.Figure at 0x7f1076d78320>"
            ]
          },
          "metadata": {
            "tags": []
          }
        }
      ]
    },
    {
      "cell_type": "code",
      "metadata": {
        "id": "Hj0nHmcc3mYU",
        "colab_type": "code",
        "outputId": "4c5830b2-f4e6-4e01-be77-869f2fafed33",
        "colab": {}
      },
      "source": [
        ""
      ],
      "execution_count": 0,
      "outputs": [
        {
          "output_type": "stream",
          "text": [
            "/home/yi/anaconda3/lib/python3.5/site-packages/matplotlib/figure.py:403: UserWarning: matplotlib is currently using a non-GUI backend, so cannot show the figure\n",
            "  \"matplotlib is currently using a non-GUI backend, \"\n"
          ],
          "name": "stderr"
        },
        {
          "output_type": "display_data",
          "data": {
            "image/png": "[encoded data removed]",
            "text/plain": [
              "<matplotlib.figure.Figure at 0x7f1076cc7c88>"
            ]
          },
          "metadata": {
            "tags": []
          }
        }
      ]
    },
    {
      "cell_type": "code",
      "metadata": {
        "id": "9BGVgXpc3mYY",
        "colab_type": "code",
        "outputId": "534d3b46-0b0b-4623-dc7f-c9e8d7eefbc2",
        "colab": {}
      },
      "source": [
        "BarcelonaTripDF.shape"
      ],
      "execution_count": 0,
      "outputs": [
        {
          "output_type": "execute_result",
          "data": {
            "text/plain": [
              "(3072, 11)"
            ]
          },
          "metadata": {
            "tags": []
          },
          "execution_count": 71
        }
      ]
    },
    {
      "cell_type": "code",
      "metadata": {
        "id": "4VrTvLvL3mYe",
        "colab_type": "code",
        "outputId": "28b2e53d-bb23-433d-931d-beef11116410",
        "colab": {}
      },
      "source": [
        "BarcelonaTripDF[:3]"
      ],
      "execution_count": 0,
      "outputs": [
        {
          "output_type": "execute_result",
          "data": {
            "text/html": [
              "<div>\n",
              "<style>\n",
              "    .dataframe thead tr:only-child th {\n",
              "        text-align: right;\n",
              "    }\n",
              "\n",
              "    .dataframe thead th {\n",
              "        text-align: left;\n",
              "    }\n",
              "\n",
              "    .dataframe tbody tr th {\n",
              "        vertical-align: top;\n",
              "    }\n",
              "</style>\n",
              "<table border=\"1\" class=\"dataframe\">\n",
              "  <thead>\n",
              "    <tr style=\"text-align: right;\">\n",
              "      <th></th>\n",
              "      <th>_id</th>\n",
              "      <th>date</th>\n",
              "      <th>hotelLocation</th>\n",
              "      <th>hotelName</th>\n",
              "      <th>hotelStars</th>\n",
              "      <th>hotelUrl</th>\n",
              "      <th>review</th>\n",
              "      <th>score</th>\n",
              "      <th>title</th>\n",
              "      <th>url</th>\n",
              "      <th>userId</th>\n",
              "      <th>wordCount</th>\n",
              "    </tr>\n",
              "  </thead>\n",
              "  <tbody>\n",
              "    <tr>\n",
              "      <th>0</th>\n",
              "      <td>5987192c9b1f26681686008e</td>\n",
              "      <td>July 31, 2017</td>\n",
              "      <td>Carrer Elisabets 11, 08001 Barcelona, Spain</td>\n",
              "      <td>Casa Camper Hotel Barcelona</td>\n",
              "      <td>4.0</td>\n",
              "      <td>https://www.tripadvisor.com/Hotel_Review-g1874...</td>\n",
              "      <td>It truly felt like coming home when we came th...</td>\n",
              "      <td>5.0</td>\n",
              "      <td>SO SO Happy to Be BACK!</td>\n",
              "      <td>https://www.tripadvisor.com/ShowUserReviews-g1...</td>\n",
              "      <td>Lili1012</td>\n",
              "      <td>221</td>\n",
              "    </tr>\n",
              "    <tr>\n",
              "      <th>1</th>\n",
              "      <td>5987192e9b1f26681686008f</td>\n",
              "      <td>July 26, 2017</td>\n",
              "      <td>Carrer Elisabets 11, 08001 Barcelona, Spain</td>\n",
              "      <td>Casa Camper Hotel Barcelona</td>\n",
              "      <td>4.0</td>\n",
              "      <td>https://www.tripadvisor.com/Hotel_Review-g1874...</td>\n",
              "      <td>Perfect place to stay in Barcelona.. We spent ...</td>\n",
              "      <td>5.0</td>\n",
              "      <td>Perfect</td>\n",
              "      <td>https://www.tripadvisor.com/ShowUserReviews-g1...</td>\n",
              "      <td>AimamKaur</td>\n",
              "      <td>35</td>\n",
              "    </tr>\n",
              "    <tr>\n",
              "      <th>2</th>\n",
              "      <td>598719309b1f266816860090</td>\n",
              "      <td>July 26, 2017</td>\n",
              "      <td>Carrer Elisabets 11, 08001 Barcelona, Spain</td>\n",
              "      <td>Casa Camper Hotel Barcelona</td>\n",
              "      <td>4.0</td>\n",
              "      <td>https://www.tripadvisor.com/Hotel_Review-g1874...</td>\n",
              "      <td>This hotel is ideally placed within reasonable...</td>\n",
              "      <td>5.0</td>\n",
              "      <td>Nothing was too much trouble</td>\n",
              "      <td>https://www.tripadvisor.com/ShowUserReviews-g1...</td>\n",
              "      <td>Tisketsmum</td>\n",
              "      <td>103</td>\n",
              "    </tr>\n",
              "  </tbody>\n",
              "</table>\n",
              "</div>"
            ],
            "text/plain": [
              "                        _id           date  \\\n",
              "0  5987192c9b1f26681686008e  July 31, 2017   \n",
              "1  5987192e9b1f26681686008f  July 26, 2017   \n",
              "2  598719309b1f266816860090  July 26, 2017   \n",
              "\n",
              "                                 hotelLocation                      hotelName  \\\n",
              "0  Carrer Elisabets 11, 08001 Barcelona, Spain   Casa Camper Hotel Barcelona    \n",
              "1  Carrer Elisabets 11, 08001 Barcelona, Spain   Casa Camper Hotel Barcelona    \n",
              "2  Carrer Elisabets 11, 08001 Barcelona, Spain   Casa Camper Hotel Barcelona    \n",
              "\n",
              "  hotelStars                                           hotelUrl  \\\n",
              "0        4.0  https://www.tripadvisor.com/Hotel_Review-g1874...   \n",
              "1        4.0  https://www.tripadvisor.com/Hotel_Review-g1874...   \n",
              "2        4.0  https://www.tripadvisor.com/Hotel_Review-g1874...   \n",
              "\n",
              "                                              review  score  \\\n",
              "0  It truly felt like coming home when we came th...    5.0   \n",
              "1  Perfect place to stay in Barcelona.. We spent ...    5.0   \n",
              "2  This hotel is ideally placed within reasonable...    5.0   \n",
              "\n",
              "                          title  \\\n",
              "0       SO SO Happy to Be BACK!   \n",
              "1                       Perfect   \n",
              "2  Nothing was too much trouble   \n",
              "\n",
              "                                                 url      userId  wordCount  \n",
              "0  https://www.tripadvisor.com/ShowUserReviews-g1...    Lili1012        221  \n",
              "1  https://www.tripadvisor.com/ShowUserReviews-g1...   AimamKaur         35  \n",
              "2  https://www.tripadvisor.com/ShowUserReviews-g1...  Tisketsmum        103  "
            ]
          },
          "metadata": {
            "tags": []
          },
          "execution_count": 78
        }
      ]
    },
    {
      "cell_type": "code",
      "metadata": {
        "id": "_EhQzJc83mYi",
        "colab_type": "code",
        "outputId": "fe110a52-6399-4ad6-f205-6786fcd65d89",
        "colab": {}
      },
      "source": [
        "print(bagWords[0])"
      ],
      "execution_count": 0,
      "outputs": [
        {
          "output_type": "stream",
          "text": [
            "['It', 'truly', 'felt', 'like', 'coming', 'home', 'when', 'we', 'came', 'through', 'the', 'doors', 'of', 'Casa', 'Camper!', 'We', 'were', 'just', 'a', 'wee', 'bit', 'afraid', 'that', 'things', 'might', 'have', 'changed', 'since', 'the', 'marvelous', 'Susanna', 'Martin', 'had', 'left', 'the', 'helm', 'BUT', 'she', 'had', 'trained', 'the', 'staff', 'well', 'and', 'our', 'beloved', 'Georgina', 'was', 'there', 'to', 'welcome', 'us', 'and', 'show', 'us', 'that', 'Casa', 'Camper', 'was', 'just', 'as', 'FANTABULOUS', 'as', 'ever.', 'Having', 'been', 'in', 'the', 'air', 'FOREVER', 'with', '3', 'layovers', 'all', 'I', 'wanted', 'was', 'FOOD', 'and', 'PROTEIN', 'and', 'Georgina', 'led', 'me', 'right', 'to', 'their', 'clever', \"'automat'\", 'set-up', 'where', 'I', 'scarfed', 'down', 'a', 'yummy', 'sandwich', 'wrap,', 'etc.', 'Feeling', 'revived,', 'we', 'headed', 'up', 'to', 'our', 'lovely', 'room', 'and', 'then', 'out', 'the', 'door', 'to', 'get', 'our', 'first', 'glimpse', 'of', 'Las', 'Ramblas', 'which', 'is', 'SO', 'close.', 'Casa', 'Camper', 'is', 'beautifully', 'located', 'and', 'the', 'staff', 'goes', 'out', 'of', 'its', 'way', 'to', 'give', 'you', 'info', 'on', 'wherever', 'to', 'want', 'to', 'go', 'and', 'whatever', 'you', 'want', 'to', 'see.', 'And', 'the', 'chef!', 'Well,', 'words', \"can't\", 'even', 'begin', 'to', 'describe', 'the', 'breakfasts', 'but', 'if', 'you', 'go', 'away', 'hungry', 'then', 'there', 'is', 'something', 'seriously', 'wrong', 'with', 'YOU!', 'All', 'I', 'can', 'say', 'is', 'that', 'if', 'there', 'was', 'a', 'Casa', 'Camper', 'in', 'EVERY', 'city', 'where', 'we', 'travelled', 'and', 'Georgina', 'could', 'clone', 'herself', 'then', 'I', 'would', 'never', 'have', 'to', 'research', 'our', 'hotel', 'choices', 'again.', 'This', 'is', 'a', 'no-brainer', 'in', 'my', 'book!']\n"
          ],
          "name": "stdout"
        }
      ]
    },
    {
      "cell_type": "code",
      "metadata": {
        "id": "zpdxeMHw3mYl",
        "colab_type": "code",
        "outputId": "3e15fecb-d06e-40a4-f065-9697c44ce19a",
        "colab": {}
      },
      "source": [
        "BarcelonaTripDF.dtypes"
      ],
      "execution_count": 0,
      "outputs": [
        {
          "output_type": "execute_result",
          "data": {
            "text/plain": [
              "_id               object\n",
              "date              object\n",
              "hotelLocation     object\n",
              "hotelName         object\n",
              "hotelStars       float64\n",
              "hotelUrl          object\n",
              "review            object\n",
              "score            float64\n",
              "title             object\n",
              "url               object\n",
              "userId            object\n",
              "wordCount          int64\n",
              "dtype: object"
            ]
          },
          "metadata": {
            "tags": []
          },
          "execution_count": 83
        }
      ]
    },
    {
      "cell_type": "code",
      "metadata": {
        "id": "aSWRgOoe3mYp",
        "colab_type": "code",
        "outputId": "e04c2ad6-0940-4e6f-ec38-59b62c48c8fd",
        "colab": {}
      },
      "source": [
        "BarcelonaTripDF.describe()"
      ],
      "execution_count": 0,
      "outputs": [
        {
          "output_type": "execute_result",
          "data": {
            "text/html": [
              "<div>\n",
              "<style>\n",
              "    .dataframe thead tr:only-child th {\n",
              "        text-align: right;\n",
              "    }\n",
              "\n",
              "    .dataframe thead th {\n",
              "        text-align: left;\n",
              "    }\n",
              "\n",
              "    .dataframe tbody tr th {\n",
              "        vertical-align: top;\n",
              "    }\n",
              "</style>\n",
              "<table border=\"1\" class=\"dataframe\">\n",
              "  <thead>\n",
              "    <tr style=\"text-align: right;\">\n",
              "      <th></th>\n",
              "      <th>hotelStars</th>\n",
              "      <th>score</th>\n",
              "      <th>wordCount</th>\n",
              "    </tr>\n",
              "  </thead>\n",
              "  <tbody>\n",
              "    <tr>\n",
              "      <th>count</th>\n",
              "      <td>3072.000000</td>\n",
              "      <td>3072.000000</td>\n",
              "      <td>3072.000000</td>\n",
              "    </tr>\n",
              "    <tr>\n",
              "      <th>mean</th>\n",
              "      <td>3.795898</td>\n",
              "      <td>4.235026</td>\n",
              "      <td>112.020833</td>\n",
              "    </tr>\n",
              "    <tr>\n",
              "      <th>std</th>\n",
              "      <td>0.891460</td>\n",
              "      <td>1.053488</td>\n",
              "      <td>97.174382</td>\n",
              "    </tr>\n",
              "    <tr>\n",
              "      <th>min</th>\n",
              "      <td>1.000000</td>\n",
              "      <td>1.000000</td>\n",
              "      <td>25.000000</td>\n",
              "    </tr>\n",
              "    <tr>\n",
              "      <th>25%</th>\n",
              "      <td>3.000000</td>\n",
              "      <td>4.000000</td>\n",
              "      <td>49.000000</td>\n",
              "    </tr>\n",
              "    <tr>\n",
              "      <th>50%</th>\n",
              "      <td>4.000000</td>\n",
              "      <td>5.000000</td>\n",
              "      <td>80.000000</td>\n",
              "    </tr>\n",
              "    <tr>\n",
              "      <th>75%</th>\n",
              "      <td>4.000000</td>\n",
              "      <td>5.000000</td>\n",
              "      <td>138.000000</td>\n",
              "    </tr>\n",
              "    <tr>\n",
              "      <th>max</th>\n",
              "      <td>5.000000</td>\n",
              "      <td>5.000000</td>\n",
              "      <td>1339.000000</td>\n",
              "    </tr>\n",
              "  </tbody>\n",
              "</table>\n",
              "</div>"
            ],
            "text/plain": [
              "        hotelStars        score    wordCount\n",
              "count  3072.000000  3072.000000  3072.000000\n",
              "mean      3.795898     4.235026   112.020833\n",
              "std       0.891460     1.053488    97.174382\n",
              "min       1.000000     1.000000    25.000000\n",
              "25%       3.000000     4.000000    49.000000\n",
              "50%       4.000000     5.000000    80.000000\n",
              "75%       4.000000     5.000000   138.000000\n",
              "max       5.000000     5.000000  1339.000000"
            ]
          },
          "metadata": {
            "tags": []
          },
          "execution_count": 84
        }
      ]
    }
  ]
}